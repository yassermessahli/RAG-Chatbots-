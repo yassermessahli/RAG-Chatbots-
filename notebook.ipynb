{
 "cells": [
  {
   "cell_type": "markdown",
   "id": "f2edba47-9e2e-476e-9f2f-fb177b329063",
   "metadata": {},
   "source": [
    "![A car dashboard with lots of new technical features.](images/dashboard.jpg)\n",
    "\n",
    "You're working for a well-known car manufacturer who is looking at implementing LLMs into vehicles to provide guidance to drivers. You've been asked to experiment with integrating car manuals with an LLM to create a context-aware chatbot. They hope that this context-aware LLM can be hooked up to a text-to-speech software to read the model's response aloud.\n",
    "\n",
    "As a proof of concept, you'll integrate several pages from a car manual that contains car warning messages and their meanings and recommended actions. This particular manual, stored as an HTML file, `mg-zs-warning-messages.html`, is from an MG ZS, a compact SUV. Armed with your newfound knowledge of LLMs and LangChain, you'll implement Retrieval Augmented Generation (RAG) to create the context-aware chatbot.\n",
    "\n",
    "## Before you start\n",
    "\n",
    "In order to complete the project you will need to create a developer account with OpenAI and store your API key as a secure environment variable. Instructions for these steps are outlined below.\n",
    "\n",
    "### Create a developer account with OpenAI\n",
    "\n",
    "1. Go to the [API signup page](https://platform.openai.com/signup). \n",
    "\n",
    "2. Create your account (you'll need to provide your email address and your phone number).\n",
    "\n",
    "3. Go to the [API keys page](https://platform.openai.com/account/api-keys). \n",
    "\n",
    "4. Create a new secret key.\n",
    "\n",
    "<img src=\"images/openai-new-secret-key.png\" width=\"200\">\n",
    "\n",
    "5. **Take a copy of it**. (If you lose it, delete the key and create a new one.)\n",
    "\n",
    "### Add a payment method\n",
    "\n",
    "OpenAI sometimes provides free credits for the API, but this can vary depending on geography. You may need to add debit/credit card details. \n",
    "\n",
    "**This project should cost much less than 1 US cents with `gpt-4o-mini` (but if you rerun tasks, you will be charged every time).**\n",
    "\n",
    "1. Go to the [Payment Methods page](https://platform.openai.com/account/billing/payment-methods).\n",
    "\n",
    "2. Click Add payment method.\n",
    "\n",
    "<img src=\"images/openai-add-payment-method.png\" width=\"200\">\n",
    "\n",
    "3. Fill in your card details.\n",
    "\n",
    "### Add an environmental variable with your OpenAI key\n",
    "\n",
    "1. In the workbook, click on \"Environment,\" in the top toolbar and select \"Environment variables\".\n",
    "\n",
    "2. Click \"Add\" to add environment variables.\n",
    "\n",
    "3. In the \"Name\" field, type \"OPENAI_API_KEY\". In the \"Value\" field, paste in your secret key.\n",
    "\n",
    "<img src=\"images/datalab-env-var-details.png\" width=\"500\">\n",
    "\n",
    "4. Click \"Create\", then you'll see the following pop-up window. Click \"Connect,\" then wait 5-10 seconds for the kernel to restart, or restart it manually in the Run menu.\n",
    "\n",
    "<img src=\"images/connect-integ.png\" width=\"500\">\n",
    "\n",
    "### Update to Python 3.10\n",
    "\n",
    "Due to how frequently the libraries required for this project are updated, you'll need to update your environment to Python 3.10:\n",
    "\n",
    "1. In the workbook, click on \"Environment,\" in the top toolbar and select \"Session details\".\n",
    "\n",
    "2. In the workbook language dropdown, select \"Python 3.10\".\n",
    "\n",
    "3. Click \"Confirm\" and hit \"Done\" once the session is ready."
   ]
  },
  {
   "cell_type": "markdown",
   "id": "98065f6b",
   "metadata": {
    "vscode": {
     "languageId": "markdown"
    }
   },
   "source": [
    "## Environment Setup and Package Installation\n",
    "\n",
    "Ensures that the environment is updated to Python 3.10 and installs the required packages for the project. The `install_if_needed` function checks if the specified version of each package is installed and installs it if necessary."
   ]
  },
  {
   "cell_type": "code",
   "execution_count": null,
   "id": "2acabac3-1319-441d-81b3-2e1a6f7f36ac",
   "metadata": {
    "collapsed": true,
    "executionCancelledAt": null,
    "executionTime": 15892,
    "jupyter": {
     "outputs_hidden": true,
     "source_hidden": false
    },
    "lastExecutedAt": 1739811593471,
    "lastExecutedByKernel": "4efd4675-cab8-413b-8e58-b06bb0b88503",
    "lastScheduledRunId": null,
    "lastSuccessfullyExecutedCode": "# Update your environment to Python 3.10 as described above before running this cell\nimport subprocess\nimport pkg_resources\n\ndef install_if_needed(package, version):\n    '''Function to ensure that the libraries used are consistent to avoid errors.'''\n    try:\n        pkg = pkg_resources.get_distribution(package)\n        if pkg.version != version:\n            raise pkg_resources.VersionConflict(pkg, version)\n    except (pkg_resources.DistributionNotFound, pkg_resources.VersionConflict):\n        subprocess.check_call([\"pip\", \"install\", f\"{package}=={version}\"])\n\ninstall_if_needed(\"langchain-core\", \"0.3.18\")\ninstall_if_needed(\"langchain-openai\", \"0.2.8\")\ninstall_if_needed(\"langchain-community\", \"0.3.7\")\ninstall_if_needed(\"unstructured\", \"0.14.4\")\ninstall_if_needed(\"langchain-chroma\", \"0.1.4\")\ninstall_if_needed(\"langchain-text-splitters\", \"0.3.2\")",
    "outputsMetadata": {
     "0": {
      "height": 507,
      "type": "stream"
     },
     "1": {
      "height": 395,
      "type": "stream"
     },
     "2": {
      "height": 507,
      "type": "stream"
     },
     "3": {
      "height": 227,
      "type": "stream"
     },
     "4": {
      "height": 507,
      "type": "stream"
     },
     "5": {
      "height": 311,
      "type": "stream"
     },
     "6": {
      "height": 507,
      "type": "stream"
     },
     "7": {
      "height": 206,
      "type": "stream"
     },
     "8": {
      "height": 507,
      "type": "stream"
     },
     "9": {
      "height": 80,
      "type": "stream"
     },
     "10": {
      "height": 507,
      "type": "stream"
     },
     "11": {
      "height": 248,
      "type": "stream"
     }
    }
   },
   "outputs": [
    {
     "name": "stdout",
     "output_type": "stream",
     "text": [
      "Defaulting to user installation because normal site-packages is not writeable\n",
      "Collecting langchain-core==0.3.18\n",
      "  Using cached langchain_core-0.3.18-py3-none-any.whl.metadata (6.3 kB)\n",
      "Requirement already satisfied: PyYAML>=5.3 in /usr/local/lib/python3.10/dist-packages (from langchain-core==0.3.18) (6.0.1)\n",
      "Requirement already satisfied: jsonpatch<2.0,>=1.33 in /usr/local/lib/python3.10/dist-packages (from langchain-core==0.3.18) (1.33)\n",
      "Requirement already satisfied: langsmith<0.2.0,>=0.1.125 in /home/repl/.local/lib/python3.10/site-packages (from langchain-core==0.3.18) (0.1.147)\n",
      "Requirement already satisfied: packaging<25,>=23.2 in /usr/local/lib/python3.10/dist-packages (from langchain-core==0.3.18) (23.2)\n",
      "Requirement already satisfied: pydantic<3.0.0,>=2.5.2 in /home/repl/.local/lib/python3.10/site-packages (from langchain-core==0.3.18) (2.10.6)\n",
      "Requirement already satisfied: tenacity!=8.4.0,<10.0.0,>=8.1.0 in /usr/local/lib/python3.10/dist-packages (from langchain-core==0.3.18) (8.3.0)\n",
      "Requirement already satisfied: typing-extensions>=4.7 in /home/repl/.local/lib/python3.10/site-packages (from langchain-core==0.3.18) (4.12.2)\n",
      "Requirement already satisfied: jsonpointer>=1.9 in /usr/local/lib/python3.10/dist-packages (from jsonpatch<2.0,>=1.33->langchain-core==0.3.18) (2.4)\n",
      "Requirement already satisfied: httpx<1,>=0.23.0 in /usr/local/lib/python3.10/dist-packages (from langsmith<0.2.0,>=0.1.125->langchain-core==0.3.18) (0.27.0)\n",
      "Requirement already satisfied: orjson<4.0.0,>=3.9.14 in /usr/local/lib/python3.10/dist-packages (from langsmith<0.2.0,>=0.1.125->langchain-core==0.3.18) (3.10.5)\n",
      "Requirement already satisfied: requests<3,>=2 in /usr/local/lib/python3.10/dist-packages (from langsmith<0.2.0,>=0.1.125->langchain-core==0.3.18) (2.31.0)\n",
      "Requirement already satisfied: requests-toolbelt<2.0.0,>=1.0.0 in /home/repl/.local/lib/python3.10/site-packages (from langsmith<0.2.0,>=0.1.125->langchain-core==0.3.18) (1.0.0)\n",
      "Requirement already satisfied: annotated-types>=0.6.0 in /usr/local/lib/python3.10/dist-packages (from pydantic<3.0.0,>=2.5.2->langchain-core==0.3.18) (0.6.0)\n",
      "Requirement already satisfied: pydantic-core==2.27.2 in /home/repl/.local/lib/python3.10/site-packages (from pydantic<3.0.0,>=2.5.2->langchain-core==0.3.18) (2.27.2)\n",
      "Requirement already satisfied: anyio in /usr/local/lib/python3.10/dist-packages (from httpx<1,>=0.23.0->langsmith<0.2.0,>=0.1.125->langchain-core==0.3.18) (4.3.0)\n",
      "Requirement already satisfied: certifi in /usr/local/lib/python3.10/dist-packages (from httpx<1,>=0.23.0->langsmith<0.2.0,>=0.1.125->langchain-core==0.3.18) (2024.2.2)\n",
      "Requirement already satisfied: httpcore==1.* in /usr/local/lib/python3.10/dist-packages (from httpx<1,>=0.23.0->langsmith<0.2.0,>=0.1.125->langchain-core==0.3.18) (1.0.5)\n",
      "Requirement already satisfied: idna in /usr/local/lib/python3.10/dist-packages (from httpx<1,>=0.23.0->langsmith<0.2.0,>=0.1.125->langchain-core==0.3.18) (3.7)\n",
      "Requirement already satisfied: sniffio in /usr/local/lib/python3.10/dist-packages (from httpx<1,>=0.23.0->langsmith<0.2.0,>=0.1.125->langchain-core==0.3.18) (1.3.1)\n",
      "Requirement already satisfied: h11<0.15,>=0.13 in /usr/local/lib/python3.10/dist-packages (from httpcore==1.*->httpx<1,>=0.23.0->langsmith<0.2.0,>=0.1.125->langchain-core==0.3.18) (0.14.0)\n",
      "Requirement already satisfied: charset-normalizer<4,>=2 in /usr/local/lib/python3.10/dist-packages (from requests<3,>=2->langsmith<0.2.0,>=0.1.125->langchain-core==0.3.18) (3.3.2)\n",
      "Requirement already satisfied: urllib3<3,>=1.21.1 in /usr/local/lib/python3.10/dist-packages (from requests<3,>=2->langsmith<0.2.0,>=0.1.125->langchain-core==0.3.18) (1.26.18)\n",
      "Requirement already satisfied: exceptiongroup>=1.0.2 in /usr/local/lib/python3.10/dist-packages (from anyio->httpx<1,>=0.23.0->langsmith<0.2.0,>=0.1.125->langchain-core==0.3.18) (1.2.1)\n",
      "Using cached langchain_core-0.3.18-py3-none-any.whl (409 kB)\n",
      "Installing collected packages: langchain-core\n",
      "  Attempting uninstall: langchain-core\n",
      "    Found existing installation: langchain-core 0.3.35\n",
      "    Uninstalling langchain-core-0.3.35:\n",
      "      Successfully uninstalled langchain-core-0.3.35\n"
     ]
    },
    {
     "name": "stderr",
     "output_type": "stream",
     "text": [
      "\u001b[31mERROR: pip's dependency resolver does not currently take into account all the packages that are installed. This behaviour is the source of the following dependency conflicts.\n",
      "langchain 0.3.18 requires langchain-core<1.0.0,>=0.3.34, but you have langchain-core 0.3.18 which is incompatible.\n",
      "langchain 0.3.18 requires langchain-text-splitters<1.0.0,>=0.3.6, but you have langchain-text-splitters 0.3.2 which is incompatible.\n",
      "crewai 0.30.11 requires langchain<0.2.0,>=0.1.10, but you have langchain 0.3.18 which is incompatible.\n",
      "embedchain 0.1.110 requires langchain<0.2.0,>=0.1.4, but you have langchain 0.3.18 which is incompatible.\n",
      "embedchain 0.1.110 requires langchain-openai<0.2.0,>=0.1.7, but you have langchain-openai 0.2.8 which is incompatible.\n",
      "langchain-cohere 0.1.5 requires langchain-core<0.3,>=0.1.42, but you have langchain-core 0.3.18 which is incompatible.\u001b[0m\u001b[31m\n",
      "\u001b[0m\n",
      "\u001b[1m[\u001b[0m\u001b[34;49mnotice\u001b[0m\u001b[1;39;49m]\u001b[0m\u001b[39;49m A new release of pip is available: \u001b[0m\u001b[31;49m24.3.1\u001b[0m\u001b[39;49m -> \u001b[0m\u001b[32;49m25.0.1\u001b[0m\n",
      "\u001b[1m[\u001b[0m\u001b[34;49mnotice\u001b[0m\u001b[1;39;49m]\u001b[0m\u001b[39;49m To update, run: \u001b[0m\u001b[32;49mpython3 -m pip install --upgrade pip\u001b[0m\n"
     ]
    },
    {
     "name": "stdout",
     "output_type": "stream",
     "text": [
      "Successfully installed langchain-core-0.3.18\n",
      "Defaulting to user installation because normal site-packages is not writeable\n",
      "Requirement already satisfied: langchain-openai==0.2.8 in /home/repl/.local/lib/python3.10/site-packages (0.2.8)\n",
      "Requirement already satisfied: langchain-core<0.4.0,>=0.3.17 in /home/repl/.local/lib/python3.10/site-packages (from langchain-openai==0.2.8) (0.3.18)\n",
      "Requirement already satisfied: openai<2.0.0,>=1.54.0 in /home/repl/.local/lib/python3.10/site-packages (from langchain-openai==0.2.8) (1.63.1)\n",
      "Requirement already satisfied: tiktoken<1,>=0.7 in /usr/local/lib/python3.10/dist-packages (from langchain-openai==0.2.8) (0.7.0)\n",
      "Requirement already satisfied: PyYAML>=5.3 in /usr/local/lib/python3.10/dist-packages (from langchain-core<0.4.0,>=0.3.17->langchain-openai==0.2.8) (6.0.1)\n",
      "Requirement already satisfied: jsonpatch<2.0,>=1.33 in /usr/local/lib/python3.10/dist-packages (from langchain-core<0.4.0,>=0.3.17->langchain-openai==0.2.8) (1.33)\n",
      "Requirement already satisfied: langsmith<0.2.0,>=0.1.125 in /home/repl/.local/lib/python3.10/site-packages (from langchain-core<0.4.0,>=0.3.17->langchain-openai==0.2.8) (0.1.147)\n",
      "Requirement already satisfied: packaging<25,>=23.2 in /usr/local/lib/python3.10/dist-packages (from langchain-core<0.4.0,>=0.3.17->langchain-openai==0.2.8) (23.2)\n",
      "Requirement already satisfied: pydantic<3.0.0,>=2.5.2 in /home/repl/.local/lib/python3.10/site-packages (from langchain-core<0.4.0,>=0.3.17->langchain-openai==0.2.8) (2.10.6)\n",
      "Requirement already satisfied: tenacity!=8.4.0,<10.0.0,>=8.1.0 in /usr/local/lib/python3.10/dist-packages (from langchain-core<0.4.0,>=0.3.17->langchain-openai==0.2.8) (8.3.0)\n",
      "Requirement already satisfied: typing-extensions>=4.7 in /home/repl/.local/lib/python3.10/site-packages (from langchain-core<0.4.0,>=0.3.17->langchain-openai==0.2.8) (4.12.2)\n",
      "Requirement already satisfied: anyio<5,>=3.5.0 in /usr/local/lib/python3.10/dist-packages (from openai<2.0.0,>=1.54.0->langchain-openai==0.2.8) (4.3.0)\n",
      "Requirement already satisfied: distro<2,>=1.7.0 in /usr/lib/python3/dist-packages (from openai<2.0.0,>=1.54.0->langchain-openai==0.2.8) (1.7.0)\n",
      "Requirement already satisfied: httpx<1,>=0.23.0 in /usr/local/lib/python3.10/dist-packages (from openai<2.0.0,>=1.54.0->langchain-openai==0.2.8) (0.27.0)\n",
      "Requirement already satisfied: jiter<1,>=0.4.0 in /usr/local/lib/python3.10/dist-packages (from openai<2.0.0,>=1.54.0->langchain-openai==0.2.8) (0.5.0)\n",
      "Requirement already satisfied: sniffio in /usr/local/lib/python3.10/dist-packages (from openai<2.0.0,>=1.54.0->langchain-openai==0.2.8) (1.3.1)\n",
      "Requirement already satisfied: tqdm>4 in /usr/local/lib/python3.10/dist-packages (from openai<2.0.0,>=1.54.0->langchain-openai==0.2.8) (4.66.4)\n",
      "Requirement already satisfied: regex>=2022.1.18 in /usr/local/lib/python3.10/dist-packages (from tiktoken<1,>=0.7->langchain-openai==0.2.8) (2023.12.25)\n",
      "Requirement already satisfied: requests>=2.26.0 in /usr/local/lib/python3.10/dist-packages (from tiktoken<1,>=0.7->langchain-openai==0.2.8) (2.31.0)\n",
      "Requirement already satisfied: idna>=2.8 in /usr/local/lib/python3.10/dist-packages (from anyio<5,>=3.5.0->openai<2.0.0,>=1.54.0->langchain-openai==0.2.8) (3.7)\n",
      "Requirement already satisfied: exceptiongroup>=1.0.2 in /usr/local/lib/python3.10/dist-packages (from anyio<5,>=3.5.0->openai<2.0.0,>=1.54.0->langchain-openai==0.2.8) (1.2.1)\n",
      "Requirement already satisfied: certifi in /usr/local/lib/python3.10/dist-packages (from httpx<1,>=0.23.0->openai<2.0.0,>=1.54.0->langchain-openai==0.2.8) (2024.2.2)\n",
      "Requirement already satisfied: httpcore==1.* in /usr/local/lib/python3.10/dist-packages (from httpx<1,>=0.23.0->openai<2.0.0,>=1.54.0->langchain-openai==0.2.8) (1.0.5)\n",
      "Requirement already satisfied: h11<0.15,>=0.13 in /usr/local/lib/python3.10/dist-packages (from httpcore==1.*->httpx<1,>=0.23.0->openai<2.0.0,>=1.54.0->langchain-openai==0.2.8) (0.14.0)\n",
      "Requirement already satisfied: jsonpointer>=1.9 in /usr/local/lib/python3.10/dist-packages (from jsonpatch<2.0,>=1.33->langchain-core<0.4.0,>=0.3.17->langchain-openai==0.2.8) (2.4)\n",
      "Requirement already satisfied: orjson<4.0.0,>=3.9.14 in /usr/local/lib/python3.10/dist-packages (from langsmith<0.2.0,>=0.1.125->langchain-core<0.4.0,>=0.3.17->langchain-openai==0.2.8) (3.10.5)\n",
      "Requirement already satisfied: requests-toolbelt<2.0.0,>=1.0.0 in /home/repl/.local/lib/python3.10/site-packages (from langsmith<0.2.0,>=0.1.125->langchain-core<0.4.0,>=0.3.17->langchain-openai==0.2.8) (1.0.0)\n",
      "Requirement already satisfied: annotated-types>=0.6.0 in /usr/local/lib/python3.10/dist-packages (from pydantic<3.0.0,>=2.5.2->langchain-core<0.4.0,>=0.3.17->langchain-openai==0.2.8) (0.6.0)\n",
      "Requirement already satisfied: pydantic-core==2.27.2 in /home/repl/.local/lib/python3.10/site-packages (from pydantic<3.0.0,>=2.5.2->langchain-core<0.4.0,>=0.3.17->langchain-openai==0.2.8) (2.27.2)\n",
      "Requirement already satisfied: charset-normalizer<4,>=2 in /usr/local/lib/python3.10/dist-packages (from requests>=2.26.0->tiktoken<1,>=0.7->langchain-openai==0.2.8) (3.3.2)\n",
      "Requirement already satisfied: urllib3<3,>=1.21.1 in /usr/local/lib/python3.10/dist-packages (from requests>=2.26.0->tiktoken<1,>=0.7->langchain-openai==0.2.8) (1.26.18)\n"
     ]
    },
    {
     "name": "stderr",
     "output_type": "stream",
     "text": [
      "\n",
      "\u001b[1m[\u001b[0m\u001b[34;49mnotice\u001b[0m\u001b[1;39;49m]\u001b[0m\u001b[39;49m A new release of pip is available: \u001b[0m\u001b[31;49m24.3.1\u001b[0m\u001b[39;49m -> \u001b[0m\u001b[32;49m25.0.1\u001b[0m\n",
      "\u001b[1m[\u001b[0m\u001b[34;49mnotice\u001b[0m\u001b[1;39;49m]\u001b[0m\u001b[39;49m To update, run: \u001b[0m\u001b[32;49mpython3 -m pip install --upgrade pip\u001b[0m\n"
     ]
    },
    {
     "name": "stdout",
     "output_type": "stream",
     "text": [
      "Defaulting to user installation because normal site-packages is not writeable\n",
      "Requirement already satisfied: langchain-community==0.3.7 in /home/repl/.local/lib/python3.10/site-packages (0.3.7)\n",
      "Requirement already satisfied: PyYAML>=5.3 in /usr/local/lib/python3.10/dist-packages (from langchain-community==0.3.7) (6.0.1)\n",
      "Requirement already satisfied: SQLAlchemy<2.0.36,>=1.4 in /usr/local/lib/python3.10/dist-packages (from langchain-community==0.3.7) (2.0.30)\n",
      "Requirement already satisfied: aiohttp<4.0.0,>=3.8.3 in /usr/local/lib/python3.10/dist-packages (from langchain-community==0.3.7) (3.9.5)\n",
      "Requirement already satisfied: dataclasses-json<0.7,>=0.5.7 in /usr/local/lib/python3.10/dist-packages (from langchain-community==0.3.7) (0.6.7)\n",
      "Requirement already satisfied: httpx-sse<0.5.0,>=0.4.0 in /usr/local/lib/python3.10/dist-packages (from langchain-community==0.3.7) (0.4.0)\n",
      "Requirement already satisfied: langchain<0.4.0,>=0.3.7 in /home/repl/.local/lib/python3.10/site-packages (from langchain-community==0.3.7) (0.3.18)\n",
      "Requirement already satisfied: langchain-core<0.4.0,>=0.3.17 in /home/repl/.local/lib/python3.10/site-packages (from langchain-community==0.3.7) (0.3.18)\n",
      "Requirement already satisfied: langsmith<0.2.0,>=0.1.125 in /home/repl/.local/lib/python3.10/site-packages (from langchain-community==0.3.7) (0.1.147)\n",
      "Requirement already satisfied: numpy<2,>=1 in /usr/local/lib/python3.10/dist-packages (from langchain-community==0.3.7) (1.26.4)\n",
      "Requirement already satisfied: pydantic-settings<3.0.0,>=2.4.0 in /usr/local/lib/python3.10/dist-packages (from langchain-community==0.3.7) (2.4.0)\n",
      "Requirement already satisfied: requests<3,>=2 in /usr/local/lib/python3.10/dist-packages (from langchain-community==0.3.7) (2.31.0)\n",
      "Requirement already satisfied: tenacity!=8.4.0,<10,>=8.1.0 in /usr/local/lib/python3.10/dist-packages (from langchain-community==0.3.7) (8.3.0)\n",
      "Requirement already satisfied: aiosignal>=1.1.2 in /usr/local/lib/python3.10/dist-packages (from aiohttp<4.0.0,>=3.8.3->langchain-community==0.3.7) (1.3.1)\n",
      "Requirement already satisfied: attrs>=17.3.0 in /usr/local/lib/python3.10/dist-packages (from aiohttp<4.0.0,>=3.8.3->langchain-community==0.3.7) (23.2.0)\n",
      "Requirement already satisfied: frozenlist>=1.1.1 in /usr/local/lib/python3.10/dist-packages (from aiohttp<4.0.0,>=3.8.3->langchain-community==0.3.7) (1.4.1)\n",
      "Requirement already satisfied: multidict<7.0,>=4.5 in /usr/local/lib/python3.10/dist-packages (from aiohttp<4.0.0,>=3.8.3->langchain-community==0.3.7) (6.0.5)\n",
      "Requirement already satisfied: yarl<2.0,>=1.0 in /usr/local/lib/python3.10/dist-packages (from aiohttp<4.0.0,>=3.8.3->langchain-community==0.3.7) (1.9.4)\n",
      "Requirement already satisfied: async-timeout<5.0,>=4.0 in /usr/local/lib/python3.10/dist-packages (from aiohttp<4.0.0,>=3.8.3->langchain-community==0.3.7) (4.0.3)\n",
      "Requirement already satisfied: marshmallow<4.0.0,>=3.18.0 in /usr/local/lib/python3.10/dist-packages (from dataclasses-json<0.7,>=0.5.7->langchain-community==0.3.7) (3.21.3)\n",
      "Requirement already satisfied: typing-inspect<1,>=0.4.0 in /usr/local/lib/python3.10/dist-packages (from dataclasses-json<0.7,>=0.5.7->langchain-community==0.3.7) (0.9.0)\n",
      "Collecting langchain-core<0.4.0,>=0.3.17 (from langchain-community==0.3.7)\n",
      "  Using cached langchain_core-0.3.35-py3-none-any.whl.metadata (5.9 kB)\n",
      "Collecting langchain-text-splitters<1.0.0,>=0.3.6 (from langchain<0.4.0,>=0.3.7->langchain-community==0.3.7)\n",
      "  Using cached langchain_text_splitters-0.3.6-py3-none-any.whl.metadata (1.9 kB)\n",
      "Requirement already satisfied: pydantic<3.0.0,>=2.7.4 in /home/repl/.local/lib/python3.10/site-packages (from langchain<0.4.0,>=0.3.7->langchain-community==0.3.7) (2.10.6)\n",
      "Requirement already satisfied: jsonpatch<2.0,>=1.33 in /usr/local/lib/python3.10/dist-packages (from langchain-core<0.4.0,>=0.3.17->langchain-community==0.3.7) (1.33)\n",
      "Requirement already satisfied: packaging<25,>=23.2 in /usr/local/lib/python3.10/dist-packages (from langchain-core<0.4.0,>=0.3.17->langchain-community==0.3.7) (23.2)\n",
      "Requirement already satisfied: typing-extensions>=4.7 in /home/repl/.local/lib/python3.10/site-packages (from langchain-core<0.4.0,>=0.3.17->langchain-community==0.3.7) (4.12.2)\n",
      "Requirement already satisfied: httpx<1,>=0.23.0 in /usr/local/lib/python3.10/dist-packages (from langsmith<0.2.0,>=0.1.125->langchain-community==0.3.7) (0.27.0)\n",
      "Requirement already satisfied: orjson<4.0.0,>=3.9.14 in /usr/local/lib/python3.10/dist-packages (from langsmith<0.2.0,>=0.1.125->langchain-community==0.3.7) (3.10.5)\n",
      "Requirement already satisfied: requests-toolbelt<2.0.0,>=1.0.0 in /home/repl/.local/lib/python3.10/site-packages (from langsmith<0.2.0,>=0.1.125->langchain-community==0.3.7) (1.0.0)\n",
      "Requirement already satisfied: python-dotenv>=0.21.0 in /usr/local/lib/python3.10/dist-packages (from pydantic-settings<3.0.0,>=2.4.0->langchain-community==0.3.7) (1.0.1)\n",
      "Requirement already satisfied: charset-normalizer<4,>=2 in /usr/local/lib/python3.10/dist-packages (from requests<3,>=2->langchain-community==0.3.7) (3.3.2)\n",
      "Requirement already satisfied: idna<4,>=2.5 in /usr/local/lib/python3.10/dist-packages (from requests<3,>=2->langchain-community==0.3.7) (3.7)\n",
      "Requirement already satisfied: urllib3<3,>=1.21.1 in /usr/local/lib/python3.10/dist-packages (from requests<3,>=2->langchain-community==0.3.7) (1.26.18)\n",
      "Requirement already satisfied: certifi>=2017.4.17 in /usr/local/lib/python3.10/dist-packages (from requests<3,>=2->langchain-community==0.3.7) (2024.2.2)\n",
      "Requirement already satisfied: greenlet!=0.4.17 in /usr/local/lib/python3.10/dist-packages (from SQLAlchemy<2.0.36,>=1.4->langchain-community==0.3.7) (3.0.3)\n",
      "Requirement already satisfied: anyio in /usr/local/lib/python3.10/dist-packages (from httpx<1,>=0.23.0->langsmith<0.2.0,>=0.1.125->langchain-community==0.3.7) (4.3.0)\n",
      "Requirement already satisfied: httpcore==1.* in /usr/local/lib/python3.10/dist-packages (from httpx<1,>=0.23.0->langsmith<0.2.0,>=0.1.125->langchain-community==0.3.7) (1.0.5)\n",
      "Requirement already satisfied: sniffio in /usr/local/lib/python3.10/dist-packages (from httpx<1,>=0.23.0->langsmith<0.2.0,>=0.1.125->langchain-community==0.3.7) (1.3.1)\n",
      "Requirement already satisfied: h11<0.15,>=0.13 in /usr/local/lib/python3.10/dist-packages (from httpcore==1.*->httpx<1,>=0.23.0->langsmith<0.2.0,>=0.1.125->langchain-community==0.3.7) (0.14.0)\n",
      "Requirement already satisfied: jsonpointer>=1.9 in /usr/local/lib/python3.10/dist-packages (from jsonpatch<2.0,>=1.33->langchain-core<0.4.0,>=0.3.17->langchain-community==0.3.7) (2.4)\n",
      "Requirement already satisfied: annotated-types>=0.6.0 in /usr/local/lib/python3.10/dist-packages (from pydantic<3.0.0,>=2.7.4->langchain<0.4.0,>=0.3.7->langchain-community==0.3.7) (0.6.0)\n",
      "Requirement already satisfied: pydantic-core==2.27.2 in /home/repl/.local/lib/python3.10/site-packages (from pydantic<3.0.0,>=2.7.4->langchain<0.4.0,>=0.3.7->langchain-community==0.3.7) (2.27.2)\n",
      "Requirement already satisfied: mypy-extensions>=0.3.0 in /usr/local/lib/python3.10/dist-packages (from typing-inspect<1,>=0.4.0->dataclasses-json<0.7,>=0.5.7->langchain-community==0.3.7) (1.0.0)\n",
      "Requirement already satisfied: exceptiongroup>=1.0.2 in /usr/local/lib/python3.10/dist-packages (from anyio->httpx<1,>=0.23.0->langsmith<0.2.0,>=0.1.125->langchain-community==0.3.7) (1.2.1)\n",
      "Using cached langchain_core-0.3.35-py3-none-any.whl (413 kB)\n",
      "Using cached langchain_text_splitters-0.3.6-py3-none-any.whl (31 kB)\n",
      "Installing collected packages: langchain-core, langchain-text-splitters\n",
      "  Attempting uninstall: langchain-core\n",
      "    Found existing installation: langchain-core 0.3.18\n",
      "    Uninstalling langchain-core-0.3.18:\n",
      "      Successfully uninstalled langchain-core-0.3.18\n",
      "  Attempting uninstall: langchain-text-splitters\n",
      "    Found existing installation: langchain-text-splitters 0.3.2\n",
      "    Uninstalling langchain-text-splitters-0.3.2:\n",
      "      Successfully uninstalled langchain-text-splitters-0.3.2\n",
      "Successfully installed langchain-core-0.3.35 langchain-text-splitters-0.3.6\n"
     ]
    },
    {
     "name": "stderr",
     "output_type": "stream",
     "text": [
      "\u001b[31mERROR: pip's dependency resolver does not currently take into account all the packages that are installed. This behaviour is the source of the following dependency conflicts.\n",
      "crewai 0.30.11 requires langchain<0.2.0,>=0.1.10, but you have langchain 0.3.18 which is incompatible.\n",
      "embedchain 0.1.110 requires langchain<0.2.0,>=0.1.4, but you have langchain 0.3.18 which is incompatible.\n",
      "embedchain 0.1.110 requires langchain-openai<0.2.0,>=0.1.7, but you have langchain-openai 0.2.8 which is incompatible.\n",
      "langchain-cohere 0.1.5 requires langchain-core<0.3,>=0.1.42, but you have langchain-core 0.3.35 which is incompatible.\u001b[0m\u001b[31m\n",
      "\u001b[0m\n",
      "\u001b[1m[\u001b[0m\u001b[34;49mnotice\u001b[0m\u001b[1;39;49m]\u001b[0m\u001b[39;49m A new release of pip is available: \u001b[0m\u001b[31;49m24.3.1\u001b[0m\u001b[39;49m -> \u001b[0m\u001b[32;49m25.0.1\u001b[0m\n",
      "\u001b[1m[\u001b[0m\u001b[34;49mnotice\u001b[0m\u001b[1;39;49m]\u001b[0m\u001b[39;49m To update, run: \u001b[0m\u001b[32;49mpython3 -m pip install --upgrade pip\u001b[0m\n"
     ]
    },
    {
     "name": "stdout",
     "output_type": "stream",
     "text": [
      "Defaulting to user installation because normal site-packages is not writeable\n",
      "Requirement already satisfied: unstructured==0.14.4 in /home/repl/.local/lib/python3.10/site-packages (0.14.4)\n",
      "Requirement already satisfied: chardet in /usr/lib/python3/dist-packages (from unstructured==0.14.4) (4.0.0)\n",
      "Requirement already satisfied: filetype in /home/repl/.local/lib/python3.10/site-packages (from unstructured==0.14.4) (1.2.0)\n",
      "Requirement already satisfied: python-magic in /home/repl/.local/lib/python3.10/site-packages (from unstructured==0.14.4) (0.4.27)\n",
      "Requirement already satisfied: lxml in /usr/local/lib/python3.10/dist-packages (from unstructured==0.14.4) (5.2.2)\n",
      "Requirement already satisfied: nltk in /usr/local/lib/python3.10/dist-packages (from unstructured==0.14.4) (3.8.1)\n",
      "Requirement already satisfied: tabulate in /usr/local/lib/python3.10/dist-packages (from unstructured==0.14.4) (0.9.0)\n",
      "Requirement already satisfied: requests in /usr/local/lib/python3.10/dist-packages (from unstructured==0.14.4) (2.31.0)\n",
      "Requirement already satisfied: beautifulsoup4 in /usr/local/lib/python3.10/dist-packages (from unstructured==0.14.4) (4.12.3)\n",
      "Requirement already satisfied: emoji in /home/repl/.local/lib/python3.10/site-packages (from unstructured==0.14.4) (2.14.1)\n",
      "Requirement already satisfied: dataclasses-json in /usr/local/lib/python3.10/dist-packages (from unstructured==0.14.4) (0.6.7)\n",
      "Requirement already satisfied: python-iso639 in /home/repl/.local/lib/python3.10/site-packages (from unstructured==0.14.4) (2025.2.8)\n",
      "Requirement already satisfied: langdetect in /home/repl/.local/lib/python3.10/site-packages (from unstructured==0.14.4) (1.0.9)\n",
      "Requirement already satisfied: numpy in /usr/local/lib/python3.10/dist-packages (from unstructured==0.14.4) (1.26.4)\n",
      "Requirement already satisfied: rapidfuzz in /usr/local/lib/python3.10/dist-packages (from unstructured==0.14.4) (3.9.0)\n",
      "Requirement already satisfied: backoff in /usr/local/lib/python3.10/dist-packages (from unstructured==0.14.4) (2.2.1)\n",
      "Requirement already satisfied: typing-extensions in /home/repl/.local/lib/python3.10/site-packages (from unstructured==0.14.4) (4.12.2)\n",
      "Requirement already satisfied: unstructured-client in /home/repl/.local/lib/python3.10/site-packages (from unstructured==0.14.4) (0.30.1)\n",
      "Requirement already satisfied: wrapt in /usr/local/lib/python3.10/dist-packages (from unstructured==0.14.4) (1.16.0)\n",
      "Requirement already satisfied: soupsieve>1.2 in /usr/local/lib/python3.10/dist-packages (from beautifulsoup4->unstructured==0.14.4) (2.5)\n",
      "Requirement already satisfied: marshmallow<4.0.0,>=3.18.0 in /usr/local/lib/python3.10/dist-packages (from dataclasses-json->unstructured==0.14.4) (3.21.3)\n",
      "Requirement already satisfied: typing-inspect<1,>=0.4.0 in /usr/local/lib/python3.10/dist-packages (from dataclasses-json->unstructured==0.14.4) (0.9.0)\n",
      "Requirement already satisfied: six in /usr/lib/python3/dist-packages (from langdetect->unstructured==0.14.4) (1.16.0)\n",
      "Requirement already satisfied: click in /usr/local/lib/python3.10/dist-packages (from nltk->unstructured==0.14.4) (8.1.7)\n",
      "Requirement already satisfied: joblib in /usr/local/lib/python3.10/dist-packages (from nltk->unstructured==0.14.4) (1.4.2)\n",
      "Requirement already satisfied: regex>=2021.8.3 in /usr/local/lib/python3.10/dist-packages (from nltk->unstructured==0.14.4) (2023.12.25)\n",
      "Requirement already satisfied: tqdm in /usr/local/lib/python3.10/dist-packages (from nltk->unstructured==0.14.4) (4.66.4)\n",
      "Requirement already satisfied: charset-normalizer<4,>=2 in /usr/local/lib/python3.10/dist-packages (from requests->unstructured==0.14.4) (3.3.2)\n",
      "Requirement already satisfied: idna<4,>=2.5 in /usr/local/lib/python3.10/dist-packages (from requests->unstructured==0.14.4) (3.7)\n",
      "Requirement already satisfied: urllib3<3,>=1.21.1 in /usr/local/lib/python3.10/dist-packages (from requests->unstructured==0.14.4) (1.26.18)\n",
      "Requirement already satisfied: certifi>=2017.4.17 in /usr/local/lib/python3.10/dist-packages (from requests->unstructured==0.14.4) (2024.2.2)\n",
      "Requirement already satisfied: aiofiles>=24.1.0 in /home/repl/.local/lib/python3.10/site-packages (from unstructured-client->unstructured==0.14.4) (24.1.0)\n",
      "Requirement already satisfied: cryptography>=3.1 in /usr/local/lib/python3.10/dist-packages (from unstructured-client->unstructured==0.14.4) (42.0.7)\n",
      "Requirement already satisfied: eval-type-backport>=0.2.0 in /home/repl/.local/lib/python3.10/site-packages (from unstructured-client->unstructured==0.14.4) (0.2.2)\n",
      "Requirement already satisfied: httpx>=0.27.0 in /usr/local/lib/python3.10/dist-packages (from unstructured-client->unstructured==0.14.4) (0.27.0)\n",
      "Requirement already satisfied: nest-asyncio>=1.6.0 in /usr/local/lib/python3.10/dist-packages (from unstructured-client->unstructured==0.14.4) (1.6.0)\n",
      "Requirement already satisfied: pydantic>=2.10.3 in /home/repl/.local/lib/python3.10/site-packages (from unstructured-client->unstructured==0.14.4) (2.10.6)\n",
      "Requirement already satisfied: pypdf>=4.0 in /usr/local/lib/python3.10/dist-packages (from unstructured-client->unstructured==0.14.4) (4.2.0)\n",
      "Requirement already satisfied: python-dateutil>=2.8.2 in /usr/local/lib/python3.10/dist-packages (from unstructured-client->unstructured==0.14.4) (2.9.0.post0)\n",
      "Requirement already satisfied: requests-toolbelt>=1.0.0 in /home/repl/.local/lib/python3.10/site-packages (from unstructured-client->unstructured==0.14.4) (1.0.0)\n",
      "Requirement already satisfied: cffi>=1.12 in /usr/local/lib/python3.10/dist-packages (from cryptography>=3.1->unstructured-client->unstructured==0.14.4) (1.16.0)\n",
      "Requirement already satisfied: anyio in /usr/local/lib/python3.10/dist-packages (from httpx>=0.27.0->unstructured-client->unstructured==0.14.4) (4.3.0)\n",
      "Requirement already satisfied: httpcore==1.* in /usr/local/lib/python3.10/dist-packages (from httpx>=0.27.0->unstructured-client->unstructured==0.14.4) (1.0.5)\n",
      "Requirement already satisfied: sniffio in /usr/local/lib/python3.10/dist-packages (from httpx>=0.27.0->unstructured-client->unstructured==0.14.4) (1.3.1)\n",
      "Requirement already satisfied: h11<0.15,>=0.13 in /usr/local/lib/python3.10/dist-packages (from httpcore==1.*->httpx>=0.27.0->unstructured-client->unstructured==0.14.4) (0.14.0)\n",
      "Requirement already satisfied: packaging>=17.0 in /usr/local/lib/python3.10/dist-packages (from marshmallow<4.0.0,>=3.18.0->dataclasses-json->unstructured==0.14.4) (23.2)\n",
      "Requirement already satisfied: annotated-types>=0.6.0 in /usr/local/lib/python3.10/dist-packages (from pydantic>=2.10.3->unstructured-client->unstructured==0.14.4) (0.6.0)\n",
      "Requirement already satisfied: pydantic-core==2.27.2 in /home/repl/.local/lib/python3.10/site-packages (from pydantic>=2.10.3->unstructured-client->unstructured==0.14.4) (2.27.2)\n",
      "Requirement already satisfied: mypy-extensions>=0.3.0 in /usr/local/lib/python3.10/dist-packages (from typing-inspect<1,>=0.4.0->dataclasses-json->unstructured==0.14.4) (1.0.0)\n",
      "Requirement already satisfied: pycparser in /usr/local/lib/python3.10/dist-packages (from cffi>=1.12->cryptography>=3.1->unstructured-client->unstructured==0.14.4) (2.22)\n",
      "Requirement already satisfied: exceptiongroup>=1.0.2 in /usr/local/lib/python3.10/dist-packages (from anyio->httpx>=0.27.0->unstructured-client->unstructured==0.14.4) (1.2.1)\n"
     ]
    },
    {
     "name": "stderr",
     "output_type": "stream",
     "text": [
      "\n",
      "\u001b[1m[\u001b[0m\u001b[34;49mnotice\u001b[0m\u001b[1;39;49m]\u001b[0m\u001b[39;49m A new release of pip is available: \u001b[0m\u001b[31;49m24.3.1\u001b[0m\u001b[39;49m -> \u001b[0m\u001b[32;49m25.0.1\u001b[0m\n",
      "\u001b[1m[\u001b[0m\u001b[34;49mnotice\u001b[0m\u001b[1;39;49m]\u001b[0m\u001b[39;49m To update, run: \u001b[0m\u001b[32;49mpython3 -m pip install --upgrade pip\u001b[0m\n"
     ]
    },
    {
     "name": "stdout",
     "output_type": "stream",
     "text": [
      "Defaulting to user installation because normal site-packages is not writeable\n",
      "Collecting langchain-text-splitters==0.3.2\n",
      "  Using cached langchain_text_splitters-0.3.2-py3-none-any.whl.metadata (2.3 kB)\n",
      "Requirement already satisfied: langchain-core<0.4.0,>=0.3.15 in /home/repl/.local/lib/python3.10/site-packages (from langchain-text-splitters==0.3.2) (0.3.35)\n",
      "Requirement already satisfied: langsmith<0.4,>=0.1.125 in /home/repl/.local/lib/python3.10/site-packages (from langchain-core<0.4.0,>=0.3.15->langchain-text-splitters==0.3.2) (0.1.147)\n",
      "Requirement already satisfied: tenacity!=8.4.0,<10.0.0,>=8.1.0 in /usr/local/lib/python3.10/dist-packages (from langchain-core<0.4.0,>=0.3.15->langchain-text-splitters==0.3.2) (8.3.0)\n",
      "Requirement already satisfied: jsonpatch<2.0,>=1.33 in /usr/local/lib/python3.10/dist-packages (from langchain-core<0.4.0,>=0.3.15->langchain-text-splitters==0.3.2) (1.33)\n",
      "Requirement already satisfied: PyYAML>=5.3 in /usr/local/lib/python3.10/dist-packages (from langchain-core<0.4.0,>=0.3.15->langchain-text-splitters==0.3.2) (6.0.1)\n",
      "Requirement already satisfied: packaging<25,>=23.2 in /usr/local/lib/python3.10/dist-packages (from langchain-core<0.4.0,>=0.3.15->langchain-text-splitters==0.3.2) (23.2)\n",
      "Requirement already satisfied: typing-extensions>=4.7 in /home/repl/.local/lib/python3.10/site-packages (from langchain-core<0.4.0,>=0.3.15->langchain-text-splitters==0.3.2) (4.12.2)\n",
      "Requirement already satisfied: pydantic<3.0.0,>=2.5.2 in /home/repl/.local/lib/python3.10/site-packages (from langchain-core<0.4.0,>=0.3.15->langchain-text-splitters==0.3.2) (2.10.6)\n",
      "Requirement already satisfied: jsonpointer>=1.9 in /usr/local/lib/python3.10/dist-packages (from jsonpatch<2.0,>=1.33->langchain-core<0.4.0,>=0.3.15->langchain-text-splitters==0.3.2) (2.4)\n",
      "Requirement already satisfied: httpx<1,>=0.23.0 in /usr/local/lib/python3.10/dist-packages (from langsmith<0.4,>=0.1.125->langchain-core<0.4.0,>=0.3.15->langchain-text-splitters==0.3.2) (0.27.0)\n",
      "Requirement already satisfied: orjson<4.0.0,>=3.9.14 in /usr/local/lib/python3.10/dist-packages (from langsmith<0.4,>=0.1.125->langchain-core<0.4.0,>=0.3.15->langchain-text-splitters==0.3.2) (3.10.5)\n",
      "Requirement already satisfied: requests<3,>=2 in /usr/local/lib/python3.10/dist-packages (from langsmith<0.4,>=0.1.125->langchain-core<0.4.0,>=0.3.15->langchain-text-splitters==0.3.2) (2.31.0)\n",
      "Requirement already satisfied: requests-toolbelt<2.0.0,>=1.0.0 in /home/repl/.local/lib/python3.10/site-packages (from langsmith<0.4,>=0.1.125->langchain-core<0.4.0,>=0.3.15->langchain-text-splitters==0.3.2) (1.0.0)\n",
      "Requirement already satisfied: annotated-types>=0.6.0 in /usr/local/lib/python3.10/dist-packages (from pydantic<3.0.0,>=2.5.2->langchain-core<0.4.0,>=0.3.15->langchain-text-splitters==0.3.2) (0.6.0)\n",
      "Requirement already satisfied: pydantic-core==2.27.2 in /home/repl/.local/lib/python3.10/site-packages (from pydantic<3.0.0,>=2.5.2->langchain-core<0.4.0,>=0.3.15->langchain-text-splitters==0.3.2) (2.27.2)\n",
      "Requirement already satisfied: anyio in /usr/local/lib/python3.10/dist-packages (from httpx<1,>=0.23.0->langsmith<0.4,>=0.1.125->langchain-core<0.4.0,>=0.3.15->langchain-text-splitters==0.3.2) (4.3.0)\n",
      "Requirement already satisfied: certifi in /usr/local/lib/python3.10/dist-packages (from httpx<1,>=0.23.0->langsmith<0.4,>=0.1.125->langchain-core<0.4.0,>=0.3.15->langchain-text-splitters==0.3.2) (2024.2.2)\n",
      "Requirement already satisfied: httpcore==1.* in /usr/local/lib/python3.10/dist-packages (from httpx<1,>=0.23.0->langsmith<0.4,>=0.1.125->langchain-core<0.4.0,>=0.3.15->langchain-text-splitters==0.3.2) (1.0.5)\n",
      "Requirement already satisfied: idna in /usr/local/lib/python3.10/dist-packages (from httpx<1,>=0.23.0->langsmith<0.4,>=0.1.125->langchain-core<0.4.0,>=0.3.15->langchain-text-splitters==0.3.2) (3.7)\n",
      "Requirement already satisfied: sniffio in /usr/local/lib/python3.10/dist-packages (from httpx<1,>=0.23.0->langsmith<0.4,>=0.1.125->langchain-core<0.4.0,>=0.3.15->langchain-text-splitters==0.3.2) (1.3.1)\n",
      "Requirement already satisfied: h11<0.15,>=0.13 in /usr/local/lib/python3.10/dist-packages (from httpcore==1.*->httpx<1,>=0.23.0->langsmith<0.4,>=0.1.125->langchain-core<0.4.0,>=0.3.15->langchain-text-splitters==0.3.2) (0.14.0)\n",
      "Requirement already satisfied: charset-normalizer<4,>=2 in /usr/local/lib/python3.10/dist-packages (from requests<3,>=2->langsmith<0.4,>=0.1.125->langchain-core<0.4.0,>=0.3.15->langchain-text-splitters==0.3.2) (3.3.2)\n",
      "Requirement already satisfied: urllib3<3,>=1.21.1 in /usr/local/lib/python3.10/dist-packages (from requests<3,>=2->langsmith<0.4,>=0.1.125->langchain-core<0.4.0,>=0.3.15->langchain-text-splitters==0.3.2) (1.26.18)\n",
      "Requirement already satisfied: exceptiongroup>=1.0.2 in /usr/local/lib/python3.10/dist-packages (from anyio->httpx<1,>=0.23.0->langsmith<0.4,>=0.1.125->langchain-core<0.4.0,>=0.3.15->langchain-text-splitters==0.3.2) (1.2.1)\n",
      "Using cached langchain_text_splitters-0.3.2-py3-none-any.whl (25 kB)\n",
      "Installing collected packages: langchain-text-splitters\n",
      "  Attempting uninstall: langchain-text-splitters\n",
      "    Found existing installation: langchain-text-splitters 0.3.6\n",
      "    Uninstalling langchain-text-splitters-0.3.6:\n",
      "      Successfully uninstalled langchain-text-splitters-0.3.6\n",
      "Successfully installed langchain-text-splitters-0.3.2\n"
     ]
    },
    {
     "name": "stderr",
     "output_type": "stream",
     "text": [
      "\u001b[31mERROR: pip's dependency resolver does not currently take into account all the packages that are installed. This behaviour is the source of the following dependency conflicts.\n",
      "langchain 0.3.18 requires langchain-text-splitters<1.0.0,>=0.3.6, but you have langchain-text-splitters 0.3.2 which is incompatible.\n",
      "crewai 0.30.11 requires langchain<0.2.0,>=0.1.10, but you have langchain 0.3.18 which is incompatible.\n",
      "embedchain 0.1.110 requires langchain<0.2.0,>=0.1.4, but you have langchain 0.3.18 which is incompatible.\n",
      "embedchain 0.1.110 requires langchain-openai<0.2.0,>=0.1.7, but you have langchain-openai 0.2.8 which is incompatible.\u001b[0m\u001b[31m\n",
      "\u001b[0m\n",
      "\u001b[1m[\u001b[0m\u001b[34;49mnotice\u001b[0m\u001b[1;39;49m]\u001b[0m\u001b[39;49m A new release of pip is available: \u001b[0m\u001b[31;49m24.3.1\u001b[0m\u001b[39;49m -> \u001b[0m\u001b[32;49m25.0.1\u001b[0m\n",
      "\u001b[1m[\u001b[0m\u001b[34;49mnotice\u001b[0m\u001b[1;39;49m]\u001b[0m\u001b[39;49m To update, run: \u001b[0m\u001b[32;49mpython3 -m pip install --upgrade pip\u001b[0m\n"
     ]
    }
   ],
   "source": [
    "# Update your environment to Python 3.10 as described above before running this cell\n",
    "import subprocess\n",
    "import pkg_resources\n",
    "\n",
    "def install_if_needed(package, version=None):\n",
    "    '''Function to ensure that the libraries used are consistent to avoid errors.'''\n",
    "    try:\n",
    "        pkg = pkg_resources.get_distribution(package)\n",
    "        if pkg.version != version:\n",
    "            raise pkg_resources.VersionConflict(pkg, version)\n",
    "    except (pkg_resources.DistributionNotFound, pkg_resources.VersionConflict):\n",
    "        subprocess.check_call([\"pip\", \"install\", f\"{package}=={version}\"])\n",
    "\n",
    "install_if_needed(\"langchain-core\", \"0.3.18\")\n",
    "install_if_needed(\"langchain-openai\", \"0.2.8\")\n",
    "install_if_needed(\"langchain-community\", \"0.3.7\")\n",
    "install_if_needed(\"unstructured\", \"0.14.4\")\n",
    "install_if_needed(\"langchain-chroma\")\n",
    "install_if_needed(\"langchain-text-splitters\", \"0.3.2\")\n",
    "install_if_needed(\"unstructured\")"
   ]
  },
  {
   "cell_type": "markdown",
   "id": "d4eb9849",
   "metadata": {},
   "source": [
    "## import required libraries"
   ]
  },
  {
   "cell_type": "code",
   "execution_count": 46,
   "id": "61baf413-6464-4c1c-a52d-b3764c124602",
   "metadata": {
    "executionCancelledAt": null,
    "executionTime": 48,
    "lastExecutedAt": 1739811599636,
    "lastExecutedByKernel": "4efd4675-cab8-413b-8e58-b06bb0b88503",
    "lastScheduledRunId": null,
    "lastSuccessfullyExecutedCode": "# Set your API key to a variable\nimport os\nopenai_api_key = os.environ[\"OPENAI_API_KEY\"]\n\n# Import the required packages\nfrom langchain_core.prompts import ChatPromptTemplate\nfrom langchain_openai import ChatOpenAI\nfrom langchain_community.document_loaders import UnstructuredHTMLLoader\nfrom langchain_openai import OpenAIEmbeddings\nfrom langchain_core.output_parsers import StrOutputParser \nfrom langchain_core.runnables import RunnablePassthrough\nfrom langchain_chroma import Chroma"
   },
   "outputs": [],
   "source": [
    "# Set your API key to a variable\n",
    "import os\n",
    "openai_api_key = os.environ[\"OPENAI_API_KEY\"]\n",
    "\n",
    "# Import the required packages\n",
    "from langchain_core.prompts import ChatPromptTemplate\n",
    "from langchain_openai import ChatOpenAI\n",
    "from langchain_community.document_loaders import UnstructuredHTMLLoader\n",
    "from langchain_openai import OpenAIEmbeddings\n",
    "from langchain_core.output_parsers import StrOutputParser \n",
    "from langchain_core.runnables import RunnablePassthrough\n",
    "from langchain_chroma import Chroma"
   ]
  },
  {
   "cell_type": "markdown",
   "id": "28f03acc",
   "metadata": {},
   "source": [
    "## Create custom html loader\n",
    "\n"
   ]
  },
  {
   "cell_type": "code",
   "execution_count": 47,
   "id": "bed58c70-1315-409c-a590-a4c7af3cad80",
   "metadata": {
    "executionCancelledAt": null,
    "executionTime": 56,
    "lastExecutedAt": 1739811599692,
    "lastExecutedByKernel": "4efd4675-cab8-413b-8e58-b06bb0b88503",
    "lastScheduledRunId": null,
    "lastSuccessfullyExecutedCode": "from typing import List\nfrom langchain.document_loaders.base import BaseLoader\nfrom langchain.docstore.document import Document\nfrom bs4 import BeautifulSoup\n\nclass CustomHTMLTableLoader(BaseLoader):\n    \"\"\"\n    Custom HTML loader that loads an HTML file containing multiple tables.\n    Each table is expected to have at least two columns with headers containing\n    'warning' and 'procedure'. For every data row (skipping header rows), it extracts\n    the warning message and procedure, combining them into one text string.\n    \"\"\"\n    def __init__(self, file_path: str):\n        self.file_path = file_path\n\n    def load(self) -> List[Document]:\n        with open(self.file_path, \"r\", encoding=\"utf-8\") as f:\n            html_content = f.read()\n        soup = BeautifulSoup(html_content, \"html.parser\")\n        tables = soup.find_all(\"table\")\n        rows_text = []\n\n        for table in tables:\n            rows = table.find_all(\"tr\")\n            if len(rows) < 2:\n                continue  # Skip tables without data rows\n            # Assume the first row is header\n            header_cells = rows[0].find_all([\"th\", \"td\"])\n            header = [cell.get_text(strip=True).lower() for cell in header_cells]\n            if len(header) < 2:\n                continue\n            # Check if headers contain the expected keywords\n            if \"warning\" not in header[0] or \"procedure\" not in header[1]:\n                continue\n            # Process remaining rows (data rows)\n            for row in rows[1:]:\n                cells = row.find_all(\"td\")\n                if len(cells) < 2:\n                    continue\n                warning_message = cells[0].get_text(strip=True)\n                procedure = cells[1].get_text(strip=True)\n                # Combine both fields into one string\n                row_text = f\"Warning Message: {warning_message}\\nProcedure: {procedure}\"\n                rows_text.append(row_text)\n        # Join all rows with a delimiter (here we use double newlines)\n        combined_text = \"\\n\\n\".join(rows_text)\n        return [Document(page_content=combined_text)]"
   },
   "outputs": [],
   "source": [
    "from typing import List\n",
    "from langchain.document_loaders.base import BaseLoader\n",
    "from langchain.docstore.document import Document\n",
    "from bs4 import BeautifulSoup\n",
    "\n",
    "class CustomHTMLTableLoader(BaseLoader):\n",
    "    \"\"\"\n",
    "    Custom HTML loader that loads an HTML file containing multiple tables.\n",
    "    Each table is expected to have at least two columns with headers containing\n",
    "    'warning' and 'procedure'. For every data row (skipping header rows), it extracts\n",
    "    the warning message and procedure, combining them into one text string.\n",
    "    \"\"\"\n",
    "    def __init__(self, file_path: str):\n",
    "        self.file_path = file_path\n",
    "\n",
    "    def load(self) -> List[Document]:\n",
    "        with open(self.file_path, \"r\", encoding=\"utf-8\") as f:\n",
    "            html_content = f.read()\n",
    "        soup = BeautifulSoup(html_content, \"html.parser\")\n",
    "        tables = soup.find_all(\"table\")\n",
    "        rows_text = []\n",
    "\n",
    "        for table in tables:\n",
    "            rows = table.find_all(\"tr\")\n",
    "            if len(rows) < 2:\n",
    "                continue  # Skip tables without data rows\n",
    "            # Assume the first row is header\n",
    "            header_cells = rows[0].find_all([\"th\", \"td\"])\n",
    "            header = [cell.get_text(strip=True).lower() for cell in header_cells]\n",
    "            if len(header) < 2:\n",
    "                continue\n",
    "            # Check if headers contain the expected keywords\n",
    "            if \"warning\" not in header[0] or \"procedure\" not in header[1]:\n",
    "                continue\n",
    "            # Process remaining rows (data rows)\n",
    "            for row in rows[1:]:\n",
    "                cells = row.find_all(\"td\")\n",
    "                if len(cells) < 2:\n",
    "                    continue\n",
    "                warning_message = cells[0].get_text(strip=True)\n",
    "                procedure = cells[1].get_text(strip=True)\n",
    "                # Combine both fields into one string\n",
    "                row_text = f\"Warning Message: {warning_message}\\nProcedure: {procedure}\"\n",
    "                rows_text.append(row_text)\n",
    "        # Join all rows with a delimiter (here we use double newlines)\n",
    "        combined_text = \"\\n\\n\".join(rows_text)\n",
    "        return [Document(page_content=combined_text)]"
   ]
  },
  {
   "cell_type": "code",
   "execution_count": 48,
   "id": "245e402c-3234-46fe-9114-c3809eb9b343",
   "metadata": {
    "executionCancelledAt": null,
    "executionTime": 48,
    "lastExecutedAt": 1739811599740,
    "lastExecutedByKernel": "4efd4675-cab8-413b-8e58-b06bb0b88503",
    "lastScheduledRunId": null,
    "lastSuccessfullyExecutedCode": "# Instantiate the custom loader with your HTML file path\nloader = CustomHTMLTableLoader(\"data/mg-zs-warning-messages.html\")\ndocuments = loader.load()"
   },
   "outputs": [],
   "source": [
    "# Instantiate the custom loader with your HTML file path\n",
    "loader = CustomHTMLTableLoader(\"data/mg-zs-warning-messages.html\")\n",
    "documents = loader.load()"
   ]
  },
  {
   "cell_type": "code",
   "execution_count": 49,
   "id": "e208f417-ab2d-4159-9c74-e710324d6fed",
   "metadata": {
    "collapsed": true,
    "executionCancelledAt": null,
    "executionTime": 48,
    "jupyter": {
     "outputs_hidden": true,
     "source_hidden": false
    },
    "lastExecutedAt": 1739811599788,
    "lastExecutedByKernel": "4efd4675-cab8-413b-8e58-b06bb0b88503",
    "lastScheduledRunId": null,
    "lastSuccessfullyExecutedCode": "print(documents[0].page_content)",
    "outputsMetadata": {
     "0": {
      "height": 561,
      "type": "stream"
     }
    }
   },
   "outputs": [
    {
     "name": "stdout",
     "output_type": "stream",
     "text": [
      "Warning Message: Cruise Control Fault\n",
      "Procedure: Indicates that the cruise controlsystem has detected a fault. Please consult an MG Authorised Repairer as soon as possible.\n",
      "\n",
      "Warning Message: Active Speed Limiter Fault\n",
      "Procedure: Indicates that the active speed limit system has detected a fault. Contact an MG Authorised Repairer as soon as possible.\n",
      "\n",
      "Warning Message: Engine Coolant Temperature High\n",
      "Procedure: High engine coolant temperature could result in severe damage. As soon as conditions permit, safely stop the vehicle and switch off the engine and contact an MG Authorised Repairer immediately.\n",
      "\n",
      "Warning Message: Engine Coolant Temperature Sensor Fault\n",
      "Procedure: Indicates that the engine coolant temperature sensor has failed. As soon as conditions permit, safely stop the vehicle and switch off the engine and contact an MG Authorised Repairer immediately.\n",
      "\n",
      "Warning Message: Low Oil Pressure\n",
      "Procedure: Indicates that the oil pressure is too low, which may result in severe engine damage. As soon as safety permits, stop the car, switch off the engine and check the engine oil level. Contact anMG Authorised Repairer as soonas possible.\n",
      "\n",
      "Warning Message: Engine Fault\n",
      "Procedure: Indicates that a failure has occurred that will effect engine performance and emissions.Contact an MG AuthorisedRepairer as soon as possible.\n",
      "\n",
      "Warning Message: Check Engine\n",
      "Procedure: Indicates that a failure has occurred that may severely damage the engine. As soon as conditions permit, safely stop the vehicle , switch off the engine and contact an MG Authorised Repairer immediately.\n",
      "\n",
      "Warning Message: Stop Start System Fault\n",
      "Procedure: Indicates that the Stop/Start intelligent fuel saving system has detected a fault. Please consult an MG Authorised Repairer as soon as possible.\n",
      "\n",
      "Warning Message: Clutch Switch Fault\n",
      "Procedure: Indicates that the clutch switch has detected a fault. Please consult an MG Authorised Repairer as soon as possible.\n",
      "\n",
      "Warning Message: Gasoline Particular Filter Full\n",
      "Procedure: Indicates that the gasoline particular filter is full. Please consult an MG Authorised Repairer as soon as possible.\n",
      "\n",
      "Warning Message: Ignition System Fault\n",
      "Procedure: Indicates that the ignition system has detected a fault. Please consult an MG Authorised Repairer immediately.\n",
      "\n",
      "Warning Message: Start Stop Button Fault\n",
      "Procedure: Indicates that the Start Stop button has detected a fault. Please consult an MG Authorised Repairer immediately.\n",
      "\n",
      "Warning Message: Passive Entry Fault\n",
      "Procedure: Indicates that the passive keyless entry (PKE) function has detected a fault. Please consult an MG Authorised Repairer as soon as possible.\n",
      "\n",
      "Warning Message: ABS Fault\n",
      "Procedure: Indicates that the anti-lock brake system (ABS) has failed and the ABS function is about to be disabled. Please consult an MG Authorised Repairer immediately.\n",
      "\n",
      "Warning Message: Brake Fault\n",
      "Procedure: Indicates that the brake fluid could be low or a fault has been detected in the Electronic Brake-force Distribution (EBD) system. As soon as safety permits, stop the car, switch off the engine and check thebrake fluid level. Contact an MG Authorised Repairer as soon aspossible.\n",
      "\n",
      "Warning Message: Stability Control Fault\n",
      "Procedure: Indicates that the stability control system has detected a fault.Please consult an MG AuthorisedRepairer immediately.\n",
      "\n",
      "Warning Message: Traction Control Fault\n",
      "Procedure: Indicates that the traction control system has detected a fault. Please consult an MGAuthorised Repairer immediately.\n",
      "\n",
      "Warning Message: EPB System Fault\n",
      "Procedure: Indicates that the electronic parking brake system (EPB) has detected a fault. Please consult an MG Authorised Repairer as soon as possible.\n",
      "\n",
      "Warning Message: Park Brake Force Not Enough\n",
      "Procedure: Indicates that there is an issue with the electronic parking brake, it may not be able to provide adequate clamping force. Contact an MG Authorised Repairer as soon as possible.\n",
      "\n",
      "Warning Message: Autohold Fault\n",
      "Procedure: Indicates that the Autohold System has detected a fault. Please consult an MG Authorised Repairer as soon as possible.\n",
      "\n",
      "Warning Message: Hill Descent Control Fault\n",
      "Procedure: Indicates that the hill descent control system has detected a fault. Please consult an MGAuthorised Repairer as soon aspossible.\n",
      "\n",
      "Warning Message: EPS Performance Reduced\n",
      "Procedure: Indicates that the electric power steering system has a general failure and that the steering performance has been reduced. As soon as conditions permit, safely stop the vehicle and switch off the engine. After a short while, start the engine, drive the vehicle a short distanceand monitor the operation of the steering, if the message is still displayed or the steering assistance reduced please contact an MG Authorised Repairer immediately.\n",
      "\n",
      "Warning Message: EPS Assistance Failure\n",
      "Procedure: Indicates that the electric power steering system has failed. Please consult an MG Authorised Repairer immediately.\n",
      "\n",
      "Warning Message: Steering Angle Fault\n",
      "Procedure: Indicates that the steering angle sensor has failed. Please consult an MG Authorised Repairer as soon as possible.\n",
      "\n",
      "Warning Message: Steering Angle Uncalibrated\n",
      "Procedure: Indicates that the steering angle sensor is not calibrated. Please consult an MG Authorised Repairer as soon as possible.\n",
      "\n",
      "Warning Message: ESCL Fault\n",
      "Procedure: Indicates that a fault has been detected with the Electronic Steering Column Lock (ESCL). As soon as conditions permit, safely stop the vehicle and switch off the engine. Contact an MG Authorised Repairer as soon as possible.\n",
      "\n",
      "Warning Message: Fuel Sensor Fault\n",
      "Procedure: Indicates that fuel sensor has detected a fault. Please consult an MG Authorised Repairer as soon as possible.\n",
      "\n",
      "Warning Message: Airbag Fault\n",
      "Procedure: Indicates that the Airbag system has detected a fault. As soon as conditions permit, safely stop the vehicle and switch off the engine and contact an MG Authorised Repairer immediately.\n",
      "\n",
      "Warning Message: Front Left/Front Right/Rear Left/Rear Right Tyre Sensor Battery Low\n",
      "Procedure: Indicates that the Tyre Pressure Monitoring system has detected that a tyre pressure sensor has a low battery. Please consult anMG Authorised Repairer as soonas possible.\n",
      "\n",
      "Warning Message: TPMS Fault\n",
      "Procedure: Indicates that the tyre pressure monitoring system has detected a fault. Please consult an MG Authorised Repairer as soon as possible.\n",
      "\n",
      "Warning Message: 12V Battery Charging System Fault\n",
      "Procedure: Indicates that the 12V battery charging system has failed. Please consult an MG Authorised Repairer immediately.\n",
      "\n",
      "Warning Message: Rear Drive Assist System Fault\n",
      "Procedure: Indicates that the rear drive assist system (RDA) has detected a fault. Please consult an MG Authorised Repairer as soon as possible.\n"
     ]
    }
   ],
   "source": [
    "print(documents[0].page_content)"
   ]
  },
  {
   "cell_type": "code",
   "execution_count": 50,
   "id": "31b61f8c-179b-48fd-87ff-a0e5aa7a3556",
   "metadata": {
    "executionCancelledAt": null,
    "executionTime": 55,
    "lastExecutedAt": 1739811599844,
    "lastExecutedByKernel": "4efd4675-cab8-413b-8e58-b06bb0b88503",
    "lastScheduledRunId": null,
    "lastSuccessfullyExecutedCode": "from langchain.text_splitter import TextSplitter\n\nclass HTMLTableRowSplitter(TextSplitter):\n    \"\"\"\n    Custom text splitter that splits the loaded HTML document (which contains rows joined by\n    double newlines) into individual chunks, each representing one table row.\n    \"\"\"\n    def split_text(self, text: str) -> List[str]:\n        # Split the text on double newlines and strip extra spaces\n        return [Document(page_content=chunk.strip()) for chunk in text.split(\"\\n\\n\") if chunk.strip()]\n"
   },
   "outputs": [],
   "source": [
    "from langchain.text_splitter import TextSplitter\n",
    "\n",
    "class HTMLTableRowSplitter(TextSplitter):\n",
    "    \"\"\"\n",
    "    Custom text splitter that splits the loaded HTML document (which contains rows joined by\n",
    "    double newlines) into individual chunks, each representing one table row.\n",
    "    \"\"\"\n",
    "    def split_text(self, text: str) -> List[str]:\n",
    "        # Split the text on double newlines and strip extra spaces\n",
    "        return [Document(page_content=chunk.strip()) for chunk in text.split(\"\\n\\n\") if chunk.strip()]\n"
   ]
  },
  {
   "cell_type": "code",
   "execution_count": 51,
   "id": "885b02de-b92b-461c-abdd-b9e822050688",
   "metadata": {
    "executionCancelledAt": null,
    "executionTime": 52,
    "lastExecutedAt": 1739811599896,
    "lastExecutedByKernel": "4efd4675-cab8-413b-8e58-b06bb0b88503",
    "lastScheduledRunId": null,
    "lastSuccessfullyExecutedCode": "splitter = HTMLTableRowSplitter()\nchunks = splitter.split_text(documents[0].page_content)\n\nprint(f\"number of rows: {len(chunks)}\")",
    "outputsMetadata": {
     "0": {
      "height": 38,
      "type": "stream"
     }
    }
   },
   "outputs": [
    {
     "name": "stdout",
     "output_type": "stream",
     "text": [
      "number of rows: 32\n"
     ]
    }
   ],
   "source": [
    "splitter = HTMLTableRowSplitter()\n",
    "chunks = splitter.split_text(documents[0].page_content)\n",
    "\n",
    "print(f\"number of rows: {len(chunks)}\")"
   ]
  },
  {
   "cell_type": "markdown",
   "id": "dc1fb223",
   "metadata": {},
   "source": [
    "## Instantiate the model \n",
    "\n",
    "We initializes the OpenAI language model with a predefined temperature setting, which controls the balance between creativity and determinism in responses."
   ]
  },
  {
   "cell_type": "code",
   "execution_count": 52,
   "id": "db533ef0-48c4-429a-bd32-4d6befe5cdb1",
   "metadata": {
    "executionCancelledAt": null,
    "executionTime": 101,
    "lastExecutedAt": 1739811599997,
    "lastExecutedByKernel": "4efd4675-cab8-413b-8e58-b06bb0b88503",
    "lastScheduledRunId": null,
    "lastSuccessfullyExecutedCode": "llm = ChatOpenAI(model=\"gpt-4o-mini\", api_key=openai_api_key, temperature=0)"
   },
   "outputs": [],
   "source": [
    "llm = ChatOpenAI(model=\"gpt-4o-mini\", api_key=openai_api_key, temperature=0)"
   ]
  },
  {
   "cell_type": "markdown",
   "id": "643a687f",
   "metadata": {},
   "source": [
    "## Vector database setup\n",
    "\n",
    "Configure the embedding model and connects it to a Chroma vector store. The embedding model transforms text into numerical representations, allowing for efficient similarity-based retrieval. Then onverts the vector store into a retriever, allowing it to efficiently search for relevant documents based on their embeddings"
   ]
  },
  {
   "cell_type": "code",
   "execution_count": 53,
   "id": "f84d33bb-2ac6-4e6d-acb5-e6904fe88dc9",
   "metadata": {
    "executionCancelledAt": null,
    "executionTime": 969,
    "lastExecutedAt": 1739811600968,
    "lastExecutedByKernel": "4efd4675-cab8-413b-8e58-b06bb0b88503",
    "lastScheduledRunId": null,
    "lastSuccessfullyExecutedCode": "embedding_model = OpenAIEmbeddings(api_key=openai_api_key, model=\"text-embedding-3-small\")\nvector_store = Chroma.from_documents(documents=chunks, embedding=embedding_model)\nretriever = vector_store.as_retriever(search_type=\"similarity\", search_kwargs={\"k\": 1})"
   },
   "outputs": [],
   "source": [
    "embedding_model = OpenAIEmbeddings(api_key=openai_api_key, model=\"text-embedding-3-small\")\n",
    "vector_store = Chroma.from_documents(documents=chunks, embedding=embedding_model)\n",
    "retriever = vector_store.as_retriever(search_type=\"similarity\", search_kwargs={\"k\": 1})"
   ]
  },
  {
   "cell_type": "code",
   "execution_count": 54,
   "id": "efa73548-c380-483f-b3c6-e0e29b883bc1",
   "metadata": {
    "executionCancelledAt": null,
    "executionTime": 54,
    "lastExecutedAt": 1739811601024,
    "lastExecutedByKernel": "4efd4675-cab8-413b-8e58-b06bb0b88503",
    "lastScheduledRunId": null,
    "lastSuccessfullyExecutedCode": "prompt = ChatPromptTemplate.from_template(\n\"\"\"\nYou will be provided with a piece of context about car diagnosis. Use it to answer the question at the end clearly. IF you could not find the answer from the given context, simply say 'Sorry, I don't know the answer!\nContext: {context} \nQuestion: {question} \n\"\"\") "
   },
   "outputs": [],
   "source": [
    "prompt = ChatPromptTemplate.from_template(\n",
    "\"\"\"\n",
    "You will be provided with a piece of context about car diagnosis. Use it to answer the question at the end clearly. IF you could not find the answer from the given context, simply say 'Sorry, I don't know the answer!\n",
    "Context: {context} \n",
    "Question: {question} \n",
    "\"\"\") "
   ]
  },
  {
   "cell_type": "code",
   "execution_count": 55,
   "id": "82ab39bc-7220-4f06-8480-2b573ef4fbed",
   "metadata": {
    "executionCancelledAt": null,
    "executionTime": 51,
    "lastExecutedAt": 1739811601076,
    "lastExecutedByKernel": "4efd4675-cab8-413b-8e58-b06bb0b88503",
    "lastScheduledRunId": null,
    "lastSuccessfullyExecutedCode": "chain = (\n    {\"context\": retriever, \"question\": RunnablePassthrough()}\n    | prompt\n    | llm \n    | StrOutputParser() \n)"
   },
   "outputs": [],
   "source": [
    "chain = (\n",
    "    {\"context\": retriever, \"question\": RunnablePassthrough()}\n",
    "    | prompt\n",
    "    | llm \n",
    "    | StrOutputParser() \n",
    ")"
   ]
  },
  {
   "cell_type": "code",
   "execution_count": 56,
   "id": "60bf218a-421f-4e2d-a8e3-460468c24af9",
   "metadata": {
    "executionCancelledAt": null,
    "executionTime": 1681,
    "lastExecutedAt": 1739811602757,
    "lastExecutedByKernel": "4efd4675-cab8-413b-8e58-b06bb0b88503",
    "lastScheduledRunId": null,
    "lastSuccessfullyExecutedCode": "test_question = \"The Gasoline Particular Filter Full warning has appeared. What does this mean and what should I do about it?\"\nanswer = chain.invoke(test_question) \nprint(answer)",
    "outputsMetadata": {
     "0": {
      "height": 59,
      "type": "stream"
     }
    }
   },
   "outputs": [
    {
     "name": "stdout",
     "output_type": "stream",
     "text": [
      "The Gasoline Particular Filter Full warning means that the gasoline particular filter is full. You should consult an MG Authorised Repairer as soon as possible.\n"
     ]
    }
   ],
   "source": [
    "test_question = \"The Gasoline Particular Filter Full warning has appeared. What does this mean and what should I do about it?\"\n",
    "answer = chain.invoke(test_question) \n",
    "print(answer)"
   ]
  }
 ],
 "metadata": {
  "colab": {
   "name": "Welcome to DataCamp Workspaces.ipynb",
   "provenance": []
  },
  "kernelspec": {
   "display_name": "lang-venv",
   "language": "python",
   "name": "python3"
  },
  "language_info": {
   "codemirror_mode": {
    "name": "ipython",
    "version": 3
   },
   "file_extension": ".py",
   "mimetype": "text/x-python",
   "name": "python",
   "nbconvert_exporter": "python",
   "pygments_lexer": "ipython3",
   "version": "3.11.0"
  }
 },
 "nbformat": 4,
 "nbformat_minor": 5
}
