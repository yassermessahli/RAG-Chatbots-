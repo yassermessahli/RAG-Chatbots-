{
 "cells": [
  {
   "cell_type": "markdown",
   "id": "f2edba47-9e2e-476e-9f2f-fb177b329063",
   "metadata": {},
   "source": [
    "![A car dashboard with lots of new technical features.](images/dashboard.jpg)\n",
    "\n",
    "You're working for a well-known car manufacturer who is looking at implementing LLMs into vehicles to provide guidance to drivers. You've been asked to experiment with integrating car manuals with an LLM to create a context-aware chatbot. They hope that this context-aware LLM can be hooked up to a text-to-speech software to read the model's response aloud.\n",
    "\n",
    "As a proof of concept, you'll integrate several pages from a car manual that contains car warning messages and their meanings and recommended actions. This particular manual, stored as an HTML file, `mg-zs-warning-messages.html`, is from an MG ZS, a compact SUV. Armed with your newfound knowledge of LLMs and LangChain, you'll implement Retrieval Augmented Generation (RAG) to create the context-aware chatbot.\n",
    "\n",
    "## Before you start\n",
    "\n",
    "In order to complete the project you will need to create a developer account with OpenAI and store your API key as a secure environment variable. Instructions for these steps are outlined below.\n",
    "\n",
    "### Create a developer account with OpenAI\n",
    "\n",
    "1. Go to the [API signup page](https://platform.openai.com/signup). \n",
    "\n",
    "2. Create your account (you'll need to provide your email address and your phone number).\n",
    "\n",
    "3. Go to the [API keys page](https://platform.openai.com/account/api-keys). \n",
    "\n",
    "4. Create a new secret key.\n",
    "\n",
    "<img src=\"images/openai-new-secret-key.png\" width=\"200\">\n",
    "\n",
    "5. **Take a copy of it**. (If you lose it, delete the key and create a new one.)\n",
    "\n",
    "### Add a payment method\n",
    "\n",
    "OpenAI sometimes provides free credits for the API, but this can vary depending on geography. You may need to add debit/credit card details. \n",
    "\n",
    "**This project should cost much less than 1 US cents with `gpt-4o-mini` (but if you rerun tasks, you will be charged every time).**\n",
    "\n",
    "1. Go to the [Payment Methods page](https://platform.openai.com/account/billing/payment-methods).\n",
    "\n",
    "2. Click Add payment method.\n",
    "\n",
    "<img src=\"images/openai-add-payment-method.png\" width=\"200\">\n",
    "\n",
    "3. Fill in your card details.\n",
    "\n",
    "### Add an environmental variable with your OpenAI key\n",
    "\n",
    "1. In the workbook, click on \"Environment,\" in the top toolbar and select \"Environment variables\".\n",
    "\n",
    "2. Click \"Add\" to add environment variables.\n",
    "\n",
    "3. In the \"Name\" field, type \"OPENAI_API_KEY\". In the \"Value\" field, paste in your secret key.\n",
    "\n",
    "<img src=\"images/datalab-env-var-details.png\" width=\"500\">\n",
    "\n",
    "4. Click \"Create\", then you'll see the following pop-up window. Click \"Connect,\" then wait 5-10 seconds for the kernel to restart, or restart it manually in the Run menu.\n",
    "\n",
    "<img src=\"images/connect-integ.png\" width=\"500\">\n",
    "\n",
    "### Update to Python 3.10\n",
    "\n",
    "Due to how frequently the libraries required for this project are updated, you'll need to update your environment to Python 3.10:\n",
    "\n",
    "1. In the workbook, click on \"Environment,\" in the top toolbar and select \"Session details\".\n",
    "\n",
    "2. In the workbook language dropdown, select \"Python 3.10\".\n",
    "\n",
    "3. Click \"Confirm\" and hit \"Done\" once the session is ready."
   ]
  },
  {
   "cell_type": "markdown",
   "id": "98065f6b",
   "metadata": {
    "vscode": {
     "languageId": "markdown"
    }
   },
   "source": [
    "## Environment Setup and Package Installation\n",
    "\n",
    "Ensures that the environment is updated to Python 3.10 and installs the required packages for the project."
   ]
  },
  {
   "cell_type": "markdown",
   "id": "d4eb9849",
   "metadata": {},
   "source": [
    "## import required libraries"
   ]
  },
  {
   "cell_type": "code",
   "execution_count": 3,
   "id": "61baf413-6464-4c1c-a52d-b3764c124602",
   "metadata": {
    "executionCancelledAt": null,
    "executionTime": 48,
    "lastExecutedAt": 1739811599636,
    "lastExecutedByKernel": "4efd4675-cab8-413b-8e58-b06bb0b88503",
    "lastScheduledRunId": null,
    "lastSuccessfullyExecutedCode": "# Set your API key to a variable\nimport os\nopenai_api_key = os.environ[\"OPENAI_API_KEY\"]\n\n# Import the required packages\nfrom langchain_core.prompts import ChatPromptTemplate\nfrom langchain_openai import ChatOpenAI\nfrom langchain_community.document_loaders import UnstructuredHTMLLoader\nfrom langchain_openai import OpenAIEmbeddings\nfrom langchain_core.output_parsers import StrOutputParser \nfrom langchain_core.runnables import RunnablePassthrough\nfrom langchain_chroma import Chroma"
   },
   "outputs": [
    {
     "ename": "ModuleNotFoundError",
     "evalue": "No module named 'langchain_chroma'",
     "output_type": "error",
     "traceback": [
      "\u001b[1;31m---------------------------------------------------------------------------\u001b[0m",
      "\u001b[1;31mModuleNotFoundError\u001b[0m                       Traceback (most recent call last)",
      "Cell \u001b[1;32mIn[3], line 12\u001b[0m\n\u001b[0;32m     10\u001b[0m \u001b[38;5;28;01mfrom\u001b[39;00m\u001b[38;5;250m \u001b[39m\u001b[38;5;21;01mlangchain_core\u001b[39;00m\u001b[38;5;21;01m.\u001b[39;00m\u001b[38;5;21;01moutput_parsers\u001b[39;00m\u001b[38;5;250m \u001b[39m\u001b[38;5;28;01mimport\u001b[39;00m StrOutputParser \n\u001b[0;32m     11\u001b[0m \u001b[38;5;28;01mfrom\u001b[39;00m\u001b[38;5;250m \u001b[39m\u001b[38;5;21;01mlangchain_core\u001b[39;00m\u001b[38;5;21;01m.\u001b[39;00m\u001b[38;5;21;01mrunnables\u001b[39;00m\u001b[38;5;250m \u001b[39m\u001b[38;5;28;01mimport\u001b[39;00m RunnablePassthrough\n\u001b[1;32m---> 12\u001b[0m \u001b[38;5;28;01mfrom\u001b[39;00m\u001b[38;5;250m \u001b[39m\u001b[38;5;21;01mlangchain_chroma\u001b[39;00m\u001b[38;5;250m \u001b[39m\u001b[38;5;28;01mimport\u001b[39;00m Chroma\n",
      "\u001b[1;31mModuleNotFoundError\u001b[0m: No module named 'langchain_chroma'"
     ]
    }
   ],
   "source": [
    "# Set your API key to a variable\n",
    "import os\n",
    "openai_api_key = os.environ[\"OPENAI_API_KEY\"]\n",
    "\n",
    "# Import the required packages\n",
    "from langchain_core.prompts import ChatPromptTemplate\n",
    "from langchain_openai import ChatOpenAI\n",
    "from langchain_community.document_loaders import UnstructuredHTMLLoader\n",
    "from langchain_openai import OpenAIEmbeddings\n",
    "from langchain_core.output_parsers import StrOutputParser \n",
    "from langchain_core.runnables import RunnablePassthrough\n",
    "from langchain_chroma import Chroma"
   ]
  },
  {
   "cell_type": "markdown",
   "id": "28f03acc",
   "metadata": {},
   "source": [
    "## Document Loading and splitting\n",
    "The document will be used by the model is  a manual for car diagnosis and troubleshootings. It is a HTML file that contains several tables with the same columns: \n",
    "- `Warning Message`: the warning displayed in the screen\n",
    "- `Procedure`: the corresponding troubleshooting approach to solve it.\n",
    "\n",
    "For best data retrieval from this document, the idea is to split the file into chunks so that each chunk should cover a single warning message and its corresponding procedure (troubleshooting). For that, we are gonna create a customized HTML loader and splitter."
   ]
  },
  {
   "cell_type": "markdown",
   "id": "0fdb3e51",
   "metadata": {},
   "source": [
    "### 1. Document loading\n",
    "The loader should load and combine the tables into a single document containing the rows delimited by a regular delimiter (say `\"\\n\\n\"`)."
   ]
  },
  {
   "cell_type": "code",
   "execution_count": null,
   "id": "bed58c70-1315-409c-a590-a4c7af3cad80",
   "metadata": {
    "executionCancelledAt": null,
    "executionTime": 56,
    "lastExecutedAt": 1739811599692,
    "lastExecutedByKernel": "4efd4675-cab8-413b-8e58-b06bb0b88503",
    "lastScheduledRunId": null,
    "lastSuccessfullyExecutedCode": "from typing import List\nfrom langchain.document_loaders.base import BaseLoader\nfrom langchain.docstore.document import Document\nfrom bs4 import BeautifulSoup\n\nclass CustomHTMLTableLoader(BaseLoader):\n    \"\"\"\n    Custom HTML loader that loads an HTML file containing multiple tables.\n    Each table is expected to have at least two columns with headers containing\n    'warning' and 'procedure'. For every data row (skipping header rows), it extracts\n    the warning message and procedure, combining them into one text string.\n    \"\"\"\n    def __init__(self, file_path: str):\n        self.file_path = file_path\n\n    def load(self) -> List[Document]:\n        with open(self.file_path, \"r\", encoding=\"utf-8\") as f:\n            html_content = f.read()\n        soup = BeautifulSoup(html_content, \"html.parser\")\n        tables = soup.find_all(\"table\")\n        rows_text = []\n\n        for table in tables:\n            rows = table.find_all(\"tr\")\n            if len(rows) < 2:\n                continue  # Skip tables without data rows\n            # Assume the first row is header\n            header_cells = rows[0].find_all([\"th\", \"td\"])\n            header = [cell.get_text(strip=True).lower() for cell in header_cells]\n            if len(header) < 2:\n                continue\n            # Check if headers contain the expected keywords\n            if \"warning\" not in header[0] or \"procedure\" not in header[1]:\n                continue\n            # Process remaining rows (data rows)\n            for row in rows[1:]:\n                cells = row.find_all(\"td\")\n                if len(cells) < 2:\n                    continue\n                warning_message = cells[0].get_text(strip=True)\n                procedure = cells[1].get_text(strip=True)\n                # Combine both fields into one string\n                row_text = f\"Warning Message: {warning_message}\\nProcedure: {procedure}\"\n                rows_text.append(row_text)\n        # Join all rows with a delimiter (here we use double newlines)\n        combined_text = \"\\n\\n\".join(rows_text)\n        return [Document(page_content=combined_text)]"
   },
   "outputs": [],
   "source": [
    "from typing import List\n",
    "from langchain.document_loaders.base import BaseLoader\n",
    "from langchain.docstore.document import Document\n",
    "from bs4 import BeautifulSoup\n",
    "\n",
    "class CustomHTMLTableLoader(BaseLoader):\n",
    "    \"\"\"\n",
    "    Custom HTML loader that loads an HTML file containing multiple tables.\n",
    "    Each table is expected to have at least two columns with headers containing\n",
    "    'warning' and 'procedure'. For every data row (skipping header rows), it extracts\n",
    "    the warning message and procedure, combining them into one text string.\n",
    "    \"\"\"\n",
    "    def __init__(self, file_path: str):\n",
    "        self.file_path = file_path\n",
    "\n",
    "    def load(self) -> List[Document]:\n",
    "        with open(self.file_path, \"r\", encoding=\"utf-8\") as f:\n",
    "            html_content = f.read()\n",
    "        soup = BeautifulSoup(html_content, \"html.parser\")\n",
    "        tables = soup.find_all(\"table\")\n",
    "        rows_text = []\n",
    "\n",
    "        for table in tables:\n",
    "            rows = table.find_all(\"tr\")\n",
    "            if len(rows) < 2:\n",
    "                continue  # Skip tables without data rows\n",
    "            # Assume the first row is header\n",
    "            header_cells = rows[0].find_all([\"th\", \"td\"])\n",
    "            header = [cell.get_text(strip=True).lower() for cell in header_cells]\n",
    "            if len(header) < 2:\n",
    "                continue\n",
    "            # Check if headers contain the expected keywords\n",
    "            if \"warning\" not in header[0] or \"procedure\" not in header[1]:\n",
    "                continue\n",
    "            # Process remaining rows (data rows)\n",
    "            for row in rows[1:]:\n",
    "                cells = row.find_all(\"td\")\n",
    "                if len(cells) < 2:\n",
    "                    continue\n",
    "                warning_message = cells[0].get_text(strip=True)\n",
    "                procedure = cells[1].get_text(strip=True)\n",
    "                # Combine both fields into one string\n",
    "                row_text = f\"Warning Message: {warning_message}\\nProcedure: {procedure}\"\n",
    "                rows_text.append(row_text)\n",
    "        # Join all rows with a delimiter (here we use double newlines)\n",
    "        combined_text = \"\\n\\n\".join(rows_text)\n",
    "        return [Document(page_content=combined_text)]"
   ]
  },
  {
   "cell_type": "code",
   "execution_count": null,
   "id": "245e402c-3234-46fe-9114-c3809eb9b343",
   "metadata": {
    "executionCancelledAt": null,
    "executionTime": 48,
    "lastExecutedAt": 1739811599740,
    "lastExecutedByKernel": "4efd4675-cab8-413b-8e58-b06bb0b88503",
    "lastScheduledRunId": null,
    "lastSuccessfullyExecutedCode": "# Instantiate the custom loader with your HTML file path\nloader = CustomHTMLTableLoader(\"data/mg-zs-warning-messages.html\")\ndocuments = loader.load()"
   },
   "outputs": [],
   "source": [
    "# Instantiate the custom loader with your HTML file path\n",
    "loader = CustomHTMLTableLoader(\"data/mg-zs-warning-messages.html\")\n",
    "documents = loader.load()"
   ]
  },
  {
   "cell_type": "code",
   "execution_count": null,
   "id": "e208f417-ab2d-4159-9c74-e710324d6fed",
   "metadata": {
    "collapsed": true,
    "executionCancelledAt": null,
    "executionTime": 48,
    "jupyter": {
     "outputs_hidden": true,
     "source_hidden": false
    },
    "lastExecutedAt": 1739811599788,
    "lastExecutedByKernel": "4efd4675-cab8-413b-8e58-b06bb0b88503",
    "lastScheduledRunId": null,
    "lastSuccessfullyExecutedCode": "print(documents[0].page_content)",
    "outputsMetadata": {
     "0": {
      "height": 561,
      "type": "stream"
     }
    }
   },
   "outputs": [
    {
     "name": "stdout",
     "output_type": "stream",
     "text": [
      "Warning Message: Cruise Control Fault\n",
      "Procedure: Indicates that the cruise controlsystem has detected a fault. Please consult an MG Authorised Repairer as soon as possible.\n",
      "\n",
      "Warning Message: Active Speed Limiter Fault\n",
      "Procedure: Indicates that the active speed limit system has detected a fault. Contact an MG Authorised Repairer as soon as possible.\n",
      "\n",
      "Warning Message: Engine Coolant Temperature High\n",
      "Procedure: High engine coolant temperature could result in severe damage. As soon as conditions permit, safely stop the vehicle and switch off the engine and contact an MG Authorised Repairer immediately.\n",
      "\n",
      "Warning Message: Engine Coolant Temperature Sensor Fault\n",
      "Procedure: Indicates that the engine coolant temperature sensor has failed. As soon as conditions permit, safely stop the vehicle and switch off the engine and contact an MG Authorised Repairer immediately.\n",
      "\n",
      "Warning Message: Low Oil Pressure\n",
      "Procedure: Indicates that the oil pressure is too low, which may result in severe engine damage. As soon as safety permits, stop the car, switch off the engine and check the engine oil level. Contact anMG Authorised Repairer as soonas possible.\n",
      "\n",
      "Warning Message: Engine Fault\n",
      "Procedure: Indicates that a failure has occurred that will effect engine performance and emissions.Contact an MG AuthorisedRepairer as soon as possible.\n",
      "\n",
      "Warning Message: Check Engine\n",
      "Procedure: Indicates that a failure has occurred that may severely damage the engine. As soon as conditions permit, safely stop the vehicle , switch off the engine and contact an MG Authorised Repairer immediately.\n",
      "\n",
      "Warning Message: Stop Start System Fault\n",
      "Procedure: Indicates that the Stop/Start intelligent fuel saving system has detected a fault. Please consult an MG Authorised Repairer as soon as possible.\n",
      "\n",
      "Warning Message: Clutch Switch Fault\n",
      "Procedure: Indicates that the clutch switch has detected a fault. Please consult an MG Authorised Repairer as soon as possible.\n",
      "\n",
      "Warning Message: Gasoline Particular Filter Full\n",
      "Procedure: Indicates that the gasoline particular filter is full. Please consult an MG Authorised Repairer as soon as possible.\n",
      "\n",
      "Warning Message: Ignition System Fault\n",
      "Procedure: Indicates that the ignition system has detected a fault. Please consult an MG Authorised Repairer immediately.\n",
      "\n",
      "Warning Message: Start Stop Button Fault\n",
      "Procedure: Indicates that the Start Stop button has detected a fault. Please consult an MG Authorised Repairer immediately.\n",
      "\n",
      "Warning Message: Passive Entry Fault\n",
      "Procedure: Indicates that the passive keyless entry (PKE) function has detected a fault. Please consult an MG Authorised Repairer as soon as possible.\n",
      "\n",
      "Warning Message: ABS Fault\n",
      "Procedure: Indicates that the anti-lock brake system (ABS) has failed and the ABS function is about to be disabled. Please consult an MG Authorised Repairer immediately.\n",
      "\n",
      "Warning Message: Brake Fault\n",
      "Procedure: Indicates that the brake fluid could be low or a fault has been detected in the Electronic Brake-force Distribution (EBD) system. As soon as safety permits, stop the car, switch off the engine and check thebrake fluid level. Contact an MG Authorised Repairer as soon aspossible.\n",
      "\n",
      "Warning Message: Stability Control Fault\n",
      "Procedure: Indicates that the stability control system has detected a fault.Please consult an MG AuthorisedRepairer immediately.\n",
      "\n",
      "Warning Message: Traction Control Fault\n",
      "Procedure: Indicates that the traction control system has detected a fault. Please consult an MGAuthorised Repairer immediately.\n",
      "\n",
      "Warning Message: EPB System Fault\n",
      "Procedure: Indicates that the electronic parking brake system (EPB) has detected a fault. Please consult an MG Authorised Repairer as soon as possible.\n",
      "\n",
      "Warning Message: Park Brake Force Not Enough\n",
      "Procedure: Indicates that there is an issue with the electronic parking brake, it may not be able to provide adequate clamping force. Contact an MG Authorised Repairer as soon as possible.\n",
      "\n",
      "Warning Message: Autohold Fault\n",
      "Procedure: Indicates that the Autohold System has detected a fault. Please consult an MG Authorised Repairer as soon as possible.\n",
      "\n",
      "Warning Message: Hill Descent Control Fault\n",
      "Procedure: Indicates that the hill descent control system has detected a fault. Please consult an MGAuthorised Repairer as soon aspossible.\n",
      "\n",
      "Warning Message: EPS Performance Reduced\n",
      "Procedure: Indicates that the electric power steering system has a general failure and that the steering performance has been reduced. As soon as conditions permit, safely stop the vehicle and switch off the engine. After a short while, start the engine, drive the vehicle a short distanceand monitor the operation of the steering, if the message is still displayed or the steering assistance reduced please contact an MG Authorised Repairer immediately.\n",
      "\n",
      "Warning Message: EPS Assistance Failure\n",
      "Procedure: Indicates that the electric power steering system has failed. Please consult an MG Authorised Repairer immediately.\n",
      "\n",
      "Warning Message: Steering Angle Fault\n",
      "Procedure: Indicates that the steering angle sensor has failed. Please consult an MG Authorised Repairer as soon as possible.\n",
      "\n",
      "Warning Message: Steering Angle Uncalibrated\n",
      "Procedure: Indicates that the steering angle sensor is not calibrated. Please consult an MG Authorised Repairer as soon as possible.\n",
      "\n",
      "Warning Message: ESCL Fault\n",
      "Procedure: Indicates that a fault has been detected with the Electronic Steering Column Lock (ESCL). As soon as conditions permit, safely stop the vehicle and switch off the engine. Contact an MG Authorised Repairer as soon as possible.\n",
      "\n",
      "Warning Message: Fuel Sensor Fault\n",
      "Procedure: Indicates that fuel sensor has detected a fault. Please consult an MG Authorised Repairer as soon as possible.\n",
      "\n",
      "Warning Message: Airbag Fault\n",
      "Procedure: Indicates that the Airbag system has detected a fault. As soon as conditions permit, safely stop the vehicle and switch off the engine and contact an MG Authorised Repairer immediately.\n",
      "\n",
      "Warning Message: Front Left/Front Right/Rear Left/Rear Right Tyre Sensor Battery Low\n",
      "Procedure: Indicates that the Tyre Pressure Monitoring system has detected that a tyre pressure sensor has a low battery. Please consult anMG Authorised Repairer as soonas possible.\n",
      "\n",
      "Warning Message: TPMS Fault\n",
      "Procedure: Indicates that the tyre pressure monitoring system has detected a fault. Please consult an MG Authorised Repairer as soon as possible.\n",
      "\n",
      "Warning Message: 12V Battery Charging System Fault\n",
      "Procedure: Indicates that the 12V battery charging system has failed. Please consult an MG Authorised Repairer immediately.\n",
      "\n",
      "Warning Message: Rear Drive Assist System Fault\n",
      "Procedure: Indicates that the rear drive assist system (RDA) has detected a fault. Please consult an MG Authorised Repairer as soon as possible.\n"
     ]
    }
   ],
   "source": [
    "print(documents[0].page_content)"
   ]
  },
  {
   "cell_type": "markdown",
   "id": "badc4fc7",
   "metadata": {},
   "source": [
    "### 2. Document Splitting\n",
    "As we said the splitter also is special (but simple). It will split the Document object into a list of Document objects by a delimiter `\"\\n\\n\"`. each chunk now should have the warning message and its procedure only."
   ]
  },
  {
   "cell_type": "code",
   "execution_count": null,
   "id": "31b61f8c-179b-48fd-87ff-a0e5aa7a3556",
   "metadata": {
    "executionCancelledAt": null,
    "executionTime": 55,
    "lastExecutedAt": 1739811599844,
    "lastExecutedByKernel": "4efd4675-cab8-413b-8e58-b06bb0b88503",
    "lastScheduledRunId": null,
    "lastSuccessfullyExecutedCode": "from langchain.text_splitter import TextSplitter\n\nclass HTMLTableRowSplitter(TextSplitter):\n    \"\"\"\n    Custom text splitter that splits the loaded HTML document (which contains rows joined by\n    double newlines) into individual chunks, each representing one table row.\n    \"\"\"\n    def split_text(self, text: str) -> List[str]:\n        # Split the text on double newlines and strip extra spaces\n        return [Document(page_content=chunk.strip()) for chunk in text.split(\"\\n\\n\") if chunk.strip()]\n"
   },
   "outputs": [],
   "source": [
    "from langchain.text_splitter import TextSplitter\n",
    "\n",
    "class HTMLTableRowSplitter(TextSplitter):\n",
    "    \"\"\"\n",
    "    Custom text splitter that splits the loaded HTML document (which contains rows joined by\n",
    "    double newlines) into individual chunks, each representing one table row.\n",
    "    \"\"\"\n",
    "    def split_text(self, text: str) -> List[str]:\n",
    "        # Split the text on double newlines and strip extra spaces\n",
    "        return [Document(page_content=chunk.strip()) for chunk in text.split(\"\\n\\n\") if chunk.strip()]\n"
   ]
  },
  {
   "cell_type": "code",
   "execution_count": 5,
   "id": "885b02de-b92b-461c-abdd-b9e822050688",
   "metadata": {
    "executionCancelledAt": null,
    "executionTime": 52,
    "lastExecutedAt": 1739811599896,
    "lastExecutedByKernel": "4efd4675-cab8-413b-8e58-b06bb0b88503",
    "lastScheduledRunId": null,
    "lastSuccessfullyExecutedCode": "splitter = HTMLTableRowSplitter()\nchunks = splitter.split_text(documents[0].page_content)\n\nprint(f\"number of rows: {len(chunks)}\")",
    "outputsMetadata": {
     "0": {
      "height": 38,
      "type": "stream"
     }
    }
   },
   "outputs": [
    {
     "ename": "NameError",
     "evalue": "name 'HTMLTableRowSplitter' is not defined",
     "output_type": "error",
     "traceback": [
      "\u001b[1;31m---------------------------------------------------------------------------\u001b[0m",
      "\u001b[1;31mNameError\u001b[0m                                 Traceback (most recent call last)",
      "Cell \u001b[1;32mIn[5], line 1\u001b[0m\n\u001b[1;32m----> 1\u001b[0m splitter \u001b[38;5;241m=\u001b[39m \u001b[43mHTMLTableRowSplitter\u001b[49m()\n\u001b[0;32m      2\u001b[0m chunks \u001b[38;5;241m=\u001b[39m splitter\u001b[38;5;241m.\u001b[39msplit_text(documents[\u001b[38;5;241m0\u001b[39m]\u001b[38;5;241m.\u001b[39mpage_content)\n\u001b[0;32m      4\u001b[0m \u001b[38;5;28mprint\u001b[39m(\u001b[38;5;124mf\u001b[39m\u001b[38;5;124m\"\u001b[39m\u001b[38;5;124mnumber of chunks: \u001b[39m\u001b[38;5;132;01m{\u001b[39;00m\u001b[38;5;28mlen\u001b[39m(chunks)\u001b[38;5;132;01m}\u001b[39;00m\u001b[38;5;124m\"\u001b[39m)\n",
      "\u001b[1;31mNameError\u001b[0m: name 'HTMLTableRowSplitter' is not defined"
     ]
    }
   ],
   "source": [
    "splitter = HTMLTableRowSplitter()\n",
    "chunks = splitter.split_text(documents[0].page_content)\n",
    "\n",
    "print(f\"number of chunks: {len(chunks)}\")"
   ]
  },
  {
   "cell_type": "markdown",
   "id": "dc1fb223",
   "metadata": {},
   "source": [
    "## The LLM \n",
    "We will use OpenAI `gpt-40-mini` model for the reasoning part. we set `temperature=0` so that the model should be strict and straitforward in answering without any crativity."
   ]
  },
  {
   "cell_type": "code",
   "execution_count": null,
   "id": "db533ef0-48c4-429a-bd32-4d6befe5cdb1",
   "metadata": {
    "executionCancelledAt": null,
    "executionTime": 101,
    "lastExecutedAt": 1739811599997,
    "lastExecutedByKernel": "4efd4675-cab8-413b-8e58-b06bb0b88503",
    "lastScheduledRunId": null,
    "lastSuccessfullyExecutedCode": "llm = ChatOpenAI(model=\"gpt-4o-mini\", api_key=openai_api_key, temperature=0)"
   },
   "outputs": [],
   "source": [
    "llm = ChatOpenAI(model=\"gpt-4o-mini\", api_key=openai_api_key, temperature=0)"
   ]
  },
  {
   "cell_type": "markdown",
   "id": "643a687f",
   "metadata": {},
   "source": [
    "## Vector Database and Retriever\n",
    "\n",
    "In this step we configure the **embedding** model. The embedding model transforms text into numerical representations (embeddings or vertors), allowing for efficient similarity-based retrieval.<br>\n",
    "Then connect the embedding model to a **Chroma** vector store that works mainly with embeddings.<br>\n",
    "Finallt, we get the Retriever from the vectorstore intself, allowing it to efficiently search for relevant documents based on their embeddings.\n",
    "\n",
    "- We will use `text-embedding-3-small` from OpenAI as the embedding model.<br>\n",
    "- Setting `k=1` in the retriever means that it will get the most similar documents (only 1)."
   ]
  },
  {
   "cell_type": "code",
   "execution_count": null,
   "id": "f84d33bb-2ac6-4e6d-acb5-e6904fe88dc9",
   "metadata": {
    "executionCancelledAt": null,
    "executionTime": 969,
    "lastExecutedAt": 1739811600968,
    "lastExecutedByKernel": "4efd4675-cab8-413b-8e58-b06bb0b88503",
    "lastScheduledRunId": null,
    "lastSuccessfullyExecutedCode": "embedding_model = OpenAIEmbeddings(api_key=openai_api_key, model=\"text-embedding-3-small\")\nvector_store = Chroma.from_documents(documents=chunks, embedding=embedding_model)\nretriever = vector_store.as_retriever(search_type=\"similarity\", search_kwargs={\"k\": 1})"
   },
   "outputs": [],
   "source": [
    "embedding_model = OpenAIEmbeddings(api_key=openai_api_key, model=\"text-embedding-3-small\")\n",
    "vector_store = Chroma.from_documents(documents=chunks, embedding=embedding_model)\n",
    "retriever = vector_store.as_retriever(search_type=\"similarity\", search_kwargs={\"k\": 1})"
   ]
  },
  {
   "cell_type": "markdown",
   "id": "1767e041",
   "metadata": {},
   "source": [
    "## Prompt template\n",
    "\n",
    "The prompt template is a dynamic template object that can take some variables and give the final prompt the model will take. Here we used 2 variables:\n",
    "\n",
    "- `question`: the questions posed by the user.\n",
    "- `context`: the context is the most relevant chunk with the question (got from the retriever)."
   ]
  },
  {
   "cell_type": "code",
   "execution_count": null,
   "id": "efa73548-c380-483f-b3c6-e0e29b883bc1",
   "metadata": {
    "executionCancelledAt": null,
    "executionTime": 54,
    "lastExecutedAt": 1739811601024,
    "lastExecutedByKernel": "4efd4675-cab8-413b-8e58-b06bb0b88503",
    "lastScheduledRunId": null,
    "lastSuccessfullyExecutedCode": "prompt = ChatPromptTemplate.from_template(\n\"\"\"\nYou will be provided with a piece of context about car diagnosis. Use it to answer the question at the end clearly. IF you could not find the answer from the given context, simply say 'Sorry, I don't know the answer!\nContext: {context} \nQuestion: {question} \n\"\"\") "
   },
   "outputs": [],
   "source": [
    "prompt = ChatPromptTemplate.from_template(\"\"\"\n",
    "You will be provided with a piece of context about car diagnosis. Use it to answer the question at the end clearly. IF you could not find the answer from the given context, simply say 'Sorry, I don't know the answer!\n",
    "Context: {context} \n",
    "Question: {question} \n",
    "\"\"\") "
   ]
  },
  {
   "cell_type": "markdown",
   "id": "5e86c5e7",
   "metadata": {},
   "source": [
    "## The Q&A chain\n",
    "\n",
    "This is the final pipeline (or chain). It is a set of operations (or tasks) that should be run sequentially starting from the user input to the final answer. I will highlight the main steps below:\n",
    "\n",
    "1. The user question should go into two directions. First, to the retriever to get the relevant chunk, and the second into the prompt template. \n",
    "2. The retrieved chunk will go to the prompt as a context. \n",
    "3. The model take the prompt and answer the quesiton based on the context.\n",
    "4. The final answer will be parsed for clear output."
   ]
  },
  {
   "cell_type": "code",
   "execution_count": null,
   "id": "82ab39bc-7220-4f06-8480-2b573ef4fbed",
   "metadata": {
    "executionCancelledAt": null,
    "executionTime": 51,
    "lastExecutedAt": 1739811601076,
    "lastExecutedByKernel": "4efd4675-cab8-413b-8e58-b06bb0b88503",
    "lastScheduledRunId": null,
    "lastSuccessfullyExecutedCode": "chain = (\n    {\"context\": retriever, \"question\": RunnablePassthrough()}\n    | prompt\n    | llm \n    | StrOutputParser() \n)"
   },
   "outputs": [],
   "source": [
    "chain = (\n",
    "    {\"context\": retriever, \"question\": RunnablePassthrough()}\n",
    "    | prompt\n",
    "    | llm \n",
    "    | StrOutputParser() \n",
    ")"
   ]
  },
  {
   "cell_type": "markdown",
   "id": "bb6dd0e6",
   "metadata": {},
   "source": [
    "## Testing the RAG chain \n",
    "We will test the chain with the requested question. the variable `answer` will store the final answer."
   ]
  },
  {
   "cell_type": "code",
   "execution_count": null,
   "id": "60bf218a-421f-4e2d-a8e3-460468c24af9",
   "metadata": {
    "executionCancelledAt": null,
    "executionTime": 1681,
    "lastExecutedAt": 1739811602757,
    "lastExecutedByKernel": "4efd4675-cab8-413b-8e58-b06bb0b88503",
    "lastScheduledRunId": null,
    "lastSuccessfullyExecutedCode": "test_question = \"The Gasoline Particular Filter Full warning has appeared. What does this mean and what should I do about it?\"\nanswer = chain.invoke(test_question) \nprint(answer)",
    "outputsMetadata": {
     "0": {
      "height": 59,
      "type": "stream"
     }
    }
   },
   "outputs": [
    {
     "name": "stdout",
     "output_type": "stream",
     "text": [
      "The Gasoline Particular Filter Full warning means that the gasoline particular filter is full. You should consult an MG Authorised Repairer as soon as possible.\n"
     ]
    }
   ],
   "source": [
    "test_question = \"The Gasoline Particular Filter Full warning has appeared. What does this mean and what should I do about it?\"\n",
    "answer = chain.invoke(test_question) \n",
    "print(answer)"
   ]
  },
  {
   "cell_type": "markdown",
   "id": "0ad5d74a",
   "metadata": {},
   "source": [
    "## Resources\n",
    "- Langchain documentation: https://python.langchain.com/api_reference\n",
    "- RAG track from datacamp: https://app.datacamp.com/learn/skill-tracks/developing-applications-with-langchain\n",
    "- OpenAI API documentation: https://platform.openai.com/docs/api-reference"
   ]
  }
 ],
 "metadata": {
  "colab": {
   "name": "Welcome to DataCamp Workspaces.ipynb",
   "provenance": []
  },
  "kernelspec": {
   "display_name": "lang-venv",
   "language": "python",
   "name": "python3"
  },
  "language_info": {
   "codemirror_mode": {
    "name": "ipython",
    "version": 3
   },
   "file_extension": ".py",
   "mimetype": "text/x-python",
   "name": "python",
   "nbconvert_exporter": "python",
   "pygments_lexer": "ipython3",
   "version": "3.11.0"
  }
 },
 "nbformat": 4,
 "nbformat_minor": 5
}
